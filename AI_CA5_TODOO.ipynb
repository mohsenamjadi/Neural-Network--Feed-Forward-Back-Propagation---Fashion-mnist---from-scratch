{
 "cells": [
  {
   "source": [
    "### We are making this neural network, because we are trying to classify clothes from 0 to 9, using a dataset called fashion MNIST, that consists of 60000 images that are 28 by 28 pixels. The dataset contains one label for each image, specifying the clothes we are seeing in each image. We say that there are 10 classes, since we have 10 labels."
   ],
   "cell_type": "markdown",
   "metadata": {}
  },
  {
   "source": [
    "LABELS = {\n",
    "    0: \"T-shirt/top\",\n",
    "    1: \"Trouser\",\n",
    "    2: \"Pullover\",\n",
    "    3: \"Dress\",\n",
    "    4: \"Coat\",\n",
    "    5: \"Sandal\",\n",
    "    6: \"Shirt\",\n",
    "    7: \"Sneaker\",\n",
    "    8: \"Bag\",\n",
    "    9: \"Ankle boot\", }"
   ],
   "cell_type": "markdown",
   "metadata": {}
  },
  {
   "cell_type": "code",
   "execution_count": 3,
   "metadata": {},
   "outputs": [],
   "source": [
    "import numpy as np\n",
    "from numpy import genfromtxt\n",
    "from matplotlib import pyplot as plt "
   ]
  },
  {
   "cell_type": "code",
   "execution_count": 4,
   "metadata": {},
   "outputs": [],
   "source": [
    "train_data = genfromtxt('./Fashion-MNIST/trainData.csv', delimiter=',')\n",
    "train_label = genfromtxt('./Fashion-MNIST/trainLabels.csv', delimiter=',')\n",
    "test_data = genfromtxt('./Fashion-MNIST/testData.csv', delimiter=',')\n",
    "test_label = genfromtxt('./Fashion-MNIST/testLabels.csv', delimiter=',')\n",
    "m_train = train_data.shape[0]\n",
    "m_test = test_data.shape[0]"
   ]
  },
  {
   "cell_type": "code",
   "execution_count": 6,
   "metadata": {},
   "outputs": [
    {
     "output_type": "stream",
     "name": "stdout",
     "text": [
      "train_data shape: (60000, 784)\ntrain_label shape: (60000,)\ntest_data shape: (10000, 784)\ntest_label shape: (10000,)\nNumber of training examples: m_train = 60000\nNumber of testing examples: m_test = 10000\n"
     ]
    }
   ],
   "source": [
    "print(\"train_data shape: \" + str(train_data.shape))\n",
    "print(\"train_label shape: \" + str(train_label.shape))\n",
    "print(\"test_data shape: \" + str(test_data.shape))\n",
    "print(\"test_label shape: \" + str(test_label.shape))\n",
    "print (\"Number of training examples: m_train = \" + str(m_train))\n",
    "print (\"Number of testing examples: m_test = \" + str(m_test))"
   ]
  },
  {
   "cell_type": "code",
   "execution_count": 7,
   "metadata": {},
   "outputs": [
    {
     "output_type": "stream",
     "name": "stdout",
     "text": [
      "[6000 6000 6000 6000 6000 6000 6000 6000 6000 6000]\n"
     ]
    }
   ],
   "source": [
    "np.histogram(train_label) \n",
    "hist,bins = np.histogram(train_label) \n",
    "print (hist) "
   ]
  },
  {
   "cell_type": "code",
   "execution_count": 8,
   "metadata": {},
   "outputs": [
    {
     "output_type": "display_data",
     "data": {
      "text/plain": "<Figure size 432x288 with 1 Axes>",
      "image/svg+xml": "<?xml version=\"1.0\" encoding=\"utf-8\" standalone=\"no\"?>\n<!DOCTYPE svg PUBLIC \"-//W3C//DTD SVG 1.1//EN\"\n  \"http://www.w3.org/Graphics/SVG/1.1/DTD/svg11.dtd\">\n<!-- Created with matplotlib (https://matplotlib.org/) -->\n<svg height=\"263.63625pt\" version=\"1.1\" viewBox=\"0 0 381.65 263.63625\" width=\"381.65pt\" xmlns=\"http://www.w3.org/2000/svg\" xmlns:xlink=\"http://www.w3.org/1999/xlink\">\n <metadata>\n  <rdf:RDF xmlns:cc=\"http://creativecommons.org/ns#\" xmlns:dc=\"http://purl.org/dc/elements/1.1/\" xmlns:rdf=\"http://www.w3.org/1999/02/22-rdf-syntax-ns#\">\n   <cc:Work>\n    <dc:type rdf:resource=\"http://purl.org/dc/dcmitype/StillImage\"/>\n    <dc:date>2021-01-10T11:35:29.497630</dc:date>\n    <dc:format>image/svg+xml</dc:format>\n    <dc:creator>\n     <cc:Agent>\n      <dc:title>Matplotlib v3.3.2, https://matplotlib.org/</dc:title>\n     </cc:Agent>\n    </dc:creator>\n   </cc:Work>\n  </rdf:RDF>\n </metadata>\n <defs>\n  <style type=\"text/css\">*{stroke-linecap:butt;stroke-linejoin:round;}</style>\n </defs>\n <g id=\"figure_1\">\n  <g id=\"patch_1\">\n   <path d=\"M -0 263.63625 \nL 381.65 263.63625 \nL 381.65 0 \nL -0 0 \nz\n\" style=\"fill:none;\"/>\n  </g>\n  <g id=\"axes_1\">\n   <g id=\"patch_2\">\n    <path d=\"M 39.65 239.758125 \nL 374.45 239.758125 \nL 374.45 22.318125 \nL 39.65 22.318125 \nz\n\" style=\"fill:#ffffff;\"/>\n   </g>\n   <g id=\"patch_3\">\n    <path clip-path=\"url(#pc1b5ec26d5)\" d=\"M 54.868182 239.758125 \nL 85.304545 239.758125 \nL 85.304545 32.672411 \nL 54.868182 32.672411 \nz\n\" style=\"fill:#1f77b4;\"/>\n   </g>\n   <g id=\"patch_4\">\n    <path clip-path=\"url(#pc1b5ec26d5)\" d=\"M 85.304545 239.758125 \nL 115.740909 239.758125 \nL 115.740909 32.672411 \nL 85.304545 32.672411 \nz\n\" style=\"fill:#1f77b4;\"/>\n   </g>\n   <g id=\"patch_5\">\n    <path clip-path=\"url(#pc1b5ec26d5)\" d=\"M 115.740909 239.758125 \nL 146.177273 239.758125 \nL 146.177273 32.672411 \nL 115.740909 32.672411 \nz\n\" style=\"fill:#1f77b4;\"/>\n   </g>\n   <g id=\"patch_6\">\n    <path clip-path=\"url(#pc1b5ec26d5)\" d=\"M 146.177273 239.758125 \nL 176.613636 239.758125 \nL 176.613636 32.672411 \nL 146.177273 32.672411 \nz\n\" style=\"fill:#1f77b4;\"/>\n   </g>\n   <g id=\"patch_7\">\n    <path clip-path=\"url(#pc1b5ec26d5)\" d=\"M 176.613636 239.758125 \nL 207.05 239.758125 \nL 207.05 32.672411 \nL 176.613636 32.672411 \nz\n\" style=\"fill:#1f77b4;\"/>\n   </g>\n   <g id=\"patch_8\">\n    <path clip-path=\"url(#pc1b5ec26d5)\" d=\"M 207.05 239.758125 \nL 237.486364 239.758125 \nL 237.486364 32.672411 \nL 207.05 32.672411 \nz\n\" style=\"fill:#1f77b4;\"/>\n   </g>\n   <g id=\"patch_9\">\n    <path clip-path=\"url(#pc1b5ec26d5)\" d=\"M 237.486364 239.758125 \nL 267.922727 239.758125 \nL 267.922727 32.672411 \nL 237.486364 32.672411 \nz\n\" style=\"fill:#1f77b4;\"/>\n   </g>\n   <g id=\"patch_10\">\n    <path clip-path=\"url(#pc1b5ec26d5)\" d=\"M 267.922727 239.758125 \nL 298.359091 239.758125 \nL 298.359091 32.672411 \nL 267.922727 32.672411 \nz\n\" style=\"fill:#1f77b4;\"/>\n   </g>\n   <g id=\"patch_11\">\n    <path clip-path=\"url(#pc1b5ec26d5)\" d=\"M 298.359091 239.758125 \nL 328.795455 239.758125 \nL 328.795455 32.672411 \nL 298.359091 32.672411 \nz\n\" style=\"fill:#1f77b4;\"/>\n   </g>\n   <g id=\"patch_12\">\n    <path clip-path=\"url(#pc1b5ec26d5)\" d=\"M 328.795455 239.758125 \nL 359.231818 239.758125 \nL 359.231818 32.672411 \nL 328.795455 32.672411 \nz\n\" style=\"fill:#1f77b4;\"/>\n   </g>\n   <g id=\"matplotlib.axis_1\">\n    <g id=\"xtick_1\">\n     <g id=\"line2d_1\">\n      <defs>\n       <path d=\"M 0 0 \nL 0 3.5 \n\" id=\"me9d57d3292\" style=\"stroke:#000000;stroke-width:0.8;\"/>\n      </defs>\n      <g>\n       <use style=\"stroke:#000000;stroke-width:0.8;\" x=\"54.868182\" xlink:href=\"#me9d57d3292\" y=\"239.758125\"/>\n      </g>\n     </g>\n     <g id=\"text_1\">\n      <!-- 0 -->\n      <g transform=\"translate(51.686932 254.356563)scale(0.1 -0.1)\">\n       <defs>\n        <path d=\"M 31.78125 66.40625 \nQ 24.171875 66.40625 20.328125 58.90625 \nQ 16.5 51.421875 16.5 36.375 \nQ 16.5 21.390625 20.328125 13.890625 \nQ 24.171875 6.390625 31.78125 6.390625 \nQ 39.453125 6.390625 43.28125 13.890625 \nQ 47.125 21.390625 47.125 36.375 \nQ 47.125 51.421875 43.28125 58.90625 \nQ 39.453125 66.40625 31.78125 66.40625 \nz\nM 31.78125 74.21875 \nQ 44.046875 74.21875 50.515625 64.515625 \nQ 56.984375 54.828125 56.984375 36.375 \nQ 56.984375 17.96875 50.515625 8.265625 \nQ 44.046875 -1.421875 31.78125 -1.421875 \nQ 19.53125 -1.421875 13.0625 8.265625 \nQ 6.59375 17.96875 6.59375 36.375 \nQ 6.59375 54.828125 13.0625 64.515625 \nQ 19.53125 74.21875 31.78125 74.21875 \nz\n\" id=\"DejaVuSans-48\"/>\n       </defs>\n       <use xlink:href=\"#DejaVuSans-48\"/>\n      </g>\n     </g>\n    </g>\n    <g id=\"xtick_2\">\n     <g id=\"line2d_2\">\n      <g>\n       <use style=\"stroke:#000000;stroke-width:0.8;\" x=\"122.504545\" xlink:href=\"#me9d57d3292\" y=\"239.758125\"/>\n      </g>\n     </g>\n     <g id=\"text_2\">\n      <!-- 2 -->\n      <g transform=\"translate(119.323295 254.356563)scale(0.1 -0.1)\">\n       <defs>\n        <path d=\"M 19.1875 8.296875 \nL 53.609375 8.296875 \nL 53.609375 0 \nL 7.328125 0 \nL 7.328125 8.296875 \nQ 12.9375 14.109375 22.625 23.890625 \nQ 32.328125 33.6875 34.8125 36.53125 \nQ 39.546875 41.84375 41.421875 45.53125 \nQ 43.3125 49.21875 43.3125 52.78125 \nQ 43.3125 58.59375 39.234375 62.25 \nQ 35.15625 65.921875 28.609375 65.921875 \nQ 23.96875 65.921875 18.8125 64.3125 \nQ 13.671875 62.703125 7.8125 59.421875 \nL 7.8125 69.390625 \nQ 13.765625 71.78125 18.9375 73 \nQ 24.125 74.21875 28.421875 74.21875 \nQ 39.75 74.21875 46.484375 68.546875 \nQ 53.21875 62.890625 53.21875 53.421875 \nQ 53.21875 48.921875 51.53125 44.890625 \nQ 49.859375 40.875 45.40625 35.40625 \nQ 44.1875 33.984375 37.640625 27.21875 \nQ 31.109375 20.453125 19.1875 8.296875 \nz\n\" id=\"DejaVuSans-50\"/>\n       </defs>\n       <use xlink:href=\"#DejaVuSans-50\"/>\n      </g>\n     </g>\n    </g>\n    <g id=\"xtick_3\">\n     <g id=\"line2d_3\">\n      <g>\n       <use style=\"stroke:#000000;stroke-width:0.8;\" x=\"190.140909\" xlink:href=\"#me9d57d3292\" y=\"239.758125\"/>\n      </g>\n     </g>\n     <g id=\"text_3\">\n      <!-- 4 -->\n      <g transform=\"translate(186.959659 254.356563)scale(0.1 -0.1)\">\n       <defs>\n        <path d=\"M 37.796875 64.3125 \nL 12.890625 25.390625 \nL 37.796875 25.390625 \nz\nM 35.203125 72.90625 \nL 47.609375 72.90625 \nL 47.609375 25.390625 \nL 58.015625 25.390625 \nL 58.015625 17.1875 \nL 47.609375 17.1875 \nL 47.609375 0 \nL 37.796875 0 \nL 37.796875 17.1875 \nL 4.890625 17.1875 \nL 4.890625 26.703125 \nz\n\" id=\"DejaVuSans-52\"/>\n       </defs>\n       <use xlink:href=\"#DejaVuSans-52\"/>\n      </g>\n     </g>\n    </g>\n    <g id=\"xtick_4\">\n     <g id=\"line2d_4\">\n      <g>\n       <use style=\"stroke:#000000;stroke-width:0.8;\" x=\"257.777273\" xlink:href=\"#me9d57d3292\" y=\"239.758125\"/>\n      </g>\n     </g>\n     <g id=\"text_4\">\n      <!-- 6 -->\n      <g transform=\"translate(254.596023 254.356563)scale(0.1 -0.1)\">\n       <defs>\n        <path d=\"M 33.015625 40.375 \nQ 26.375 40.375 22.484375 35.828125 \nQ 18.609375 31.296875 18.609375 23.390625 \nQ 18.609375 15.53125 22.484375 10.953125 \nQ 26.375 6.390625 33.015625 6.390625 \nQ 39.65625 6.390625 43.53125 10.953125 \nQ 47.40625 15.53125 47.40625 23.390625 \nQ 47.40625 31.296875 43.53125 35.828125 \nQ 39.65625 40.375 33.015625 40.375 \nz\nM 52.59375 71.296875 \nL 52.59375 62.3125 \nQ 48.875 64.0625 45.09375 64.984375 \nQ 41.3125 65.921875 37.59375 65.921875 \nQ 27.828125 65.921875 22.671875 59.328125 \nQ 17.53125 52.734375 16.796875 39.40625 \nQ 19.671875 43.65625 24.015625 45.921875 \nQ 28.375 48.1875 33.59375 48.1875 \nQ 44.578125 48.1875 50.953125 41.515625 \nQ 57.328125 34.859375 57.328125 23.390625 \nQ 57.328125 12.15625 50.6875 5.359375 \nQ 44.046875 -1.421875 33.015625 -1.421875 \nQ 20.359375 -1.421875 13.671875 8.265625 \nQ 6.984375 17.96875 6.984375 36.375 \nQ 6.984375 53.65625 15.1875 63.9375 \nQ 23.390625 74.21875 37.203125 74.21875 \nQ 40.921875 74.21875 44.703125 73.484375 \nQ 48.484375 72.75 52.59375 71.296875 \nz\n\" id=\"DejaVuSans-54\"/>\n       </defs>\n       <use xlink:href=\"#DejaVuSans-54\"/>\n      </g>\n     </g>\n    </g>\n    <g id=\"xtick_5\">\n     <g id=\"line2d_5\">\n      <g>\n       <use style=\"stroke:#000000;stroke-width:0.8;\" x=\"325.413636\" xlink:href=\"#me9d57d3292\" y=\"239.758125\"/>\n      </g>\n     </g>\n     <g id=\"text_5\">\n      <!-- 8 -->\n      <g transform=\"translate(322.232386 254.356563)scale(0.1 -0.1)\">\n       <defs>\n        <path d=\"M 31.78125 34.625 \nQ 24.75 34.625 20.71875 30.859375 \nQ 16.703125 27.09375 16.703125 20.515625 \nQ 16.703125 13.921875 20.71875 10.15625 \nQ 24.75 6.390625 31.78125 6.390625 \nQ 38.8125 6.390625 42.859375 10.171875 \nQ 46.921875 13.96875 46.921875 20.515625 \nQ 46.921875 27.09375 42.890625 30.859375 \nQ 38.875 34.625 31.78125 34.625 \nz\nM 21.921875 38.8125 \nQ 15.578125 40.375 12.03125 44.71875 \nQ 8.5 49.078125 8.5 55.328125 \nQ 8.5 64.0625 14.71875 69.140625 \nQ 20.953125 74.21875 31.78125 74.21875 \nQ 42.671875 74.21875 48.875 69.140625 \nQ 55.078125 64.0625 55.078125 55.328125 \nQ 55.078125 49.078125 51.53125 44.71875 \nQ 48 40.375 41.703125 38.8125 \nQ 48.828125 37.15625 52.796875 32.3125 \nQ 56.78125 27.484375 56.78125 20.515625 \nQ 56.78125 9.90625 50.3125 4.234375 \nQ 43.84375 -1.421875 31.78125 -1.421875 \nQ 19.734375 -1.421875 13.25 4.234375 \nQ 6.78125 9.90625 6.78125 20.515625 \nQ 6.78125 27.484375 10.78125 32.3125 \nQ 14.796875 37.15625 21.921875 38.8125 \nz\nM 18.3125 54.390625 \nQ 18.3125 48.734375 21.84375 45.5625 \nQ 25.390625 42.390625 31.78125 42.390625 \nQ 38.140625 42.390625 41.71875 45.5625 \nQ 45.3125 48.734375 45.3125 54.390625 \nQ 45.3125 60.0625 41.71875 63.234375 \nQ 38.140625 66.40625 31.78125 66.40625 \nQ 25.390625 66.40625 21.84375 63.234375 \nQ 18.3125 60.0625 18.3125 54.390625 \nz\n\" id=\"DejaVuSans-56\"/>\n       </defs>\n       <use xlink:href=\"#DejaVuSans-56\"/>\n      </g>\n     </g>\n    </g>\n   </g>\n   <g id=\"matplotlib.axis_2\">\n    <g id=\"ytick_1\">\n     <g id=\"line2d_6\">\n      <defs>\n       <path d=\"M 0 0 \nL -3.5 0 \n\" id=\"m3dac94c60b\" style=\"stroke:#000000;stroke-width:0.8;\"/>\n      </defs>\n      <g>\n       <use style=\"stroke:#000000;stroke-width:0.8;\" x=\"39.65\" xlink:href=\"#m3dac94c60b\" y=\"239.758125\"/>\n      </g>\n     </g>\n     <g id=\"text_6\">\n      <!-- 0 -->\n      <g transform=\"translate(26.2875 243.557344)scale(0.1 -0.1)\">\n       <use xlink:href=\"#DejaVuSans-48\"/>\n      </g>\n     </g>\n    </g>\n    <g id=\"ytick_2\">\n     <g id=\"line2d_7\">\n      <g>\n       <use style=\"stroke:#000000;stroke-width:0.8;\" x=\"39.65\" xlink:href=\"#m3dac94c60b\" y=\"205.243839\"/>\n      </g>\n     </g>\n     <g id=\"text_7\">\n      <!-- 1000 -->\n      <g transform=\"translate(7.2 209.043058)scale(0.1 -0.1)\">\n       <defs>\n        <path d=\"M 12.40625 8.296875 \nL 28.515625 8.296875 \nL 28.515625 63.921875 \nL 10.984375 60.40625 \nL 10.984375 69.390625 \nL 28.421875 72.90625 \nL 38.28125 72.90625 \nL 38.28125 8.296875 \nL 54.390625 8.296875 \nL 54.390625 0 \nL 12.40625 0 \nz\n\" id=\"DejaVuSans-49\"/>\n       </defs>\n       <use xlink:href=\"#DejaVuSans-49\"/>\n       <use x=\"63.623047\" xlink:href=\"#DejaVuSans-48\"/>\n       <use x=\"127.246094\" xlink:href=\"#DejaVuSans-48\"/>\n       <use x=\"190.869141\" xlink:href=\"#DejaVuSans-48\"/>\n      </g>\n     </g>\n    </g>\n    <g id=\"ytick_3\">\n     <g id=\"line2d_8\">\n      <g>\n       <use style=\"stroke:#000000;stroke-width:0.8;\" x=\"39.65\" xlink:href=\"#m3dac94c60b\" y=\"170.729554\"/>\n      </g>\n     </g>\n     <g id=\"text_8\">\n      <!-- 2000 -->\n      <g transform=\"translate(7.2 174.528772)scale(0.1 -0.1)\">\n       <use xlink:href=\"#DejaVuSans-50\"/>\n       <use x=\"63.623047\" xlink:href=\"#DejaVuSans-48\"/>\n       <use x=\"127.246094\" xlink:href=\"#DejaVuSans-48\"/>\n       <use x=\"190.869141\" xlink:href=\"#DejaVuSans-48\"/>\n      </g>\n     </g>\n    </g>\n    <g id=\"ytick_4\">\n     <g id=\"line2d_9\">\n      <g>\n       <use style=\"stroke:#000000;stroke-width:0.8;\" x=\"39.65\" xlink:href=\"#m3dac94c60b\" y=\"136.215268\"/>\n      </g>\n     </g>\n     <g id=\"text_9\">\n      <!-- 3000 -->\n      <g transform=\"translate(7.2 140.014487)scale(0.1 -0.1)\">\n       <defs>\n        <path d=\"M 40.578125 39.3125 \nQ 47.65625 37.796875 51.625 33 \nQ 55.609375 28.21875 55.609375 21.1875 \nQ 55.609375 10.40625 48.1875 4.484375 \nQ 40.765625 -1.421875 27.09375 -1.421875 \nQ 22.515625 -1.421875 17.65625 -0.515625 \nQ 12.796875 0.390625 7.625 2.203125 \nL 7.625 11.71875 \nQ 11.71875 9.328125 16.59375 8.109375 \nQ 21.484375 6.890625 26.8125 6.890625 \nQ 36.078125 6.890625 40.9375 10.546875 \nQ 45.796875 14.203125 45.796875 21.1875 \nQ 45.796875 27.640625 41.28125 31.265625 \nQ 36.765625 34.90625 28.71875 34.90625 \nL 20.21875 34.90625 \nL 20.21875 43.015625 \nL 29.109375 43.015625 \nQ 36.375 43.015625 40.234375 45.921875 \nQ 44.09375 48.828125 44.09375 54.296875 \nQ 44.09375 59.90625 40.109375 62.90625 \nQ 36.140625 65.921875 28.71875 65.921875 \nQ 24.65625 65.921875 20.015625 65.03125 \nQ 15.375 64.15625 9.8125 62.3125 \nL 9.8125 71.09375 \nQ 15.4375 72.65625 20.34375 73.4375 \nQ 25.25 74.21875 29.59375 74.21875 \nQ 40.828125 74.21875 47.359375 69.109375 \nQ 53.90625 64.015625 53.90625 55.328125 \nQ 53.90625 49.265625 50.4375 45.09375 \nQ 46.96875 40.921875 40.578125 39.3125 \nz\n\" id=\"DejaVuSans-51\"/>\n       </defs>\n       <use xlink:href=\"#DejaVuSans-51\"/>\n       <use x=\"63.623047\" xlink:href=\"#DejaVuSans-48\"/>\n       <use x=\"127.246094\" xlink:href=\"#DejaVuSans-48\"/>\n       <use x=\"190.869141\" xlink:href=\"#DejaVuSans-48\"/>\n      </g>\n     </g>\n    </g>\n    <g id=\"ytick_5\">\n     <g id=\"line2d_10\">\n      <g>\n       <use style=\"stroke:#000000;stroke-width:0.8;\" x=\"39.65\" xlink:href=\"#m3dac94c60b\" y=\"101.700982\"/>\n      </g>\n     </g>\n     <g id=\"text_10\">\n      <!-- 4000 -->\n      <g transform=\"translate(7.2 105.500201)scale(0.1 -0.1)\">\n       <use xlink:href=\"#DejaVuSans-52\"/>\n       <use x=\"63.623047\" xlink:href=\"#DejaVuSans-48\"/>\n       <use x=\"127.246094\" xlink:href=\"#DejaVuSans-48\"/>\n       <use x=\"190.869141\" xlink:href=\"#DejaVuSans-48\"/>\n      </g>\n     </g>\n    </g>\n    <g id=\"ytick_6\">\n     <g id=\"line2d_11\">\n      <g>\n       <use style=\"stroke:#000000;stroke-width:0.8;\" x=\"39.65\" xlink:href=\"#m3dac94c60b\" y=\"67.186696\"/>\n      </g>\n     </g>\n     <g id=\"text_11\">\n      <!-- 5000 -->\n      <g transform=\"translate(7.2 70.985915)scale(0.1 -0.1)\">\n       <defs>\n        <path d=\"M 10.796875 72.90625 \nL 49.515625 72.90625 \nL 49.515625 64.59375 \nL 19.828125 64.59375 \nL 19.828125 46.734375 \nQ 21.96875 47.46875 24.109375 47.828125 \nQ 26.265625 48.1875 28.421875 48.1875 \nQ 40.625 48.1875 47.75 41.5 \nQ 54.890625 34.8125 54.890625 23.390625 \nQ 54.890625 11.625 47.5625 5.09375 \nQ 40.234375 -1.421875 26.90625 -1.421875 \nQ 22.3125 -1.421875 17.546875 -0.640625 \nQ 12.796875 0.140625 7.71875 1.703125 \nL 7.71875 11.625 \nQ 12.109375 9.234375 16.796875 8.0625 \nQ 21.484375 6.890625 26.703125 6.890625 \nQ 35.15625 6.890625 40.078125 11.328125 \nQ 45.015625 15.765625 45.015625 23.390625 \nQ 45.015625 31 40.078125 35.4375 \nQ 35.15625 39.890625 26.703125 39.890625 \nQ 22.75 39.890625 18.8125 39.015625 \nQ 14.890625 38.140625 10.796875 36.28125 \nz\n\" id=\"DejaVuSans-53\"/>\n       </defs>\n       <use xlink:href=\"#DejaVuSans-53\"/>\n       <use x=\"63.623047\" xlink:href=\"#DejaVuSans-48\"/>\n       <use x=\"127.246094\" xlink:href=\"#DejaVuSans-48\"/>\n       <use x=\"190.869141\" xlink:href=\"#DejaVuSans-48\"/>\n      </g>\n     </g>\n    </g>\n    <g id=\"ytick_7\">\n     <g id=\"line2d_12\">\n      <g>\n       <use style=\"stroke:#000000;stroke-width:0.8;\" x=\"39.65\" xlink:href=\"#m3dac94c60b\" y=\"32.672411\"/>\n      </g>\n     </g>\n     <g id=\"text_12\">\n      <!-- 6000 -->\n      <g transform=\"translate(7.2 36.471629)scale(0.1 -0.1)\">\n       <use xlink:href=\"#DejaVuSans-54\"/>\n       <use x=\"63.623047\" xlink:href=\"#DejaVuSans-48\"/>\n       <use x=\"127.246094\" xlink:href=\"#DejaVuSans-48\"/>\n       <use x=\"190.869141\" xlink:href=\"#DejaVuSans-48\"/>\n      </g>\n     </g>\n    </g>\n   </g>\n   <g id=\"patch_13\">\n    <path d=\"M 39.65 239.758125 \nL 39.65 22.318125 \n\" style=\"fill:none;stroke:#000000;stroke-linecap:square;stroke-linejoin:miter;stroke-width:0.8;\"/>\n   </g>\n   <g id=\"patch_14\">\n    <path d=\"M 374.45 239.758125 \nL 374.45 22.318125 \n\" style=\"fill:none;stroke:#000000;stroke-linecap:square;stroke-linejoin:miter;stroke-width:0.8;\"/>\n   </g>\n   <g id=\"patch_15\">\n    <path d=\"M 39.65 239.758125 \nL 374.45 239.758125 \n\" style=\"fill:none;stroke:#000000;stroke-linecap:square;stroke-linejoin:miter;stroke-width:0.8;\"/>\n   </g>\n   <g id=\"patch_16\">\n    <path d=\"M 39.65 22.318125 \nL 374.45 22.318125 \n\" style=\"fill:none;stroke:#000000;stroke-linecap:square;stroke-linejoin:miter;stroke-width:0.8;\"/>\n   </g>\n   <g id=\"text_13\">\n    <!-- histogram -->\n    <g transform=\"translate(176.634688 16.318125)scale(0.12 -0.12)\">\n     <defs>\n      <path d=\"M 54.890625 33.015625 \nL 54.890625 0 \nL 45.90625 0 \nL 45.90625 32.71875 \nQ 45.90625 40.484375 42.875 44.328125 \nQ 39.84375 48.1875 33.796875 48.1875 \nQ 26.515625 48.1875 22.3125 43.546875 \nQ 18.109375 38.921875 18.109375 30.90625 \nL 18.109375 0 \nL 9.078125 0 \nL 9.078125 75.984375 \nL 18.109375 75.984375 \nL 18.109375 46.1875 \nQ 21.34375 51.125 25.703125 53.5625 \nQ 30.078125 56 35.796875 56 \nQ 45.21875 56 50.046875 50.171875 \nQ 54.890625 44.34375 54.890625 33.015625 \nz\n\" id=\"DejaVuSans-104\"/>\n      <path d=\"M 9.421875 54.6875 \nL 18.40625 54.6875 \nL 18.40625 0 \nL 9.421875 0 \nz\nM 9.421875 75.984375 \nL 18.40625 75.984375 \nL 18.40625 64.59375 \nL 9.421875 64.59375 \nz\n\" id=\"DejaVuSans-105\"/>\n      <path d=\"M 44.28125 53.078125 \nL 44.28125 44.578125 \nQ 40.484375 46.53125 36.375 47.5 \nQ 32.28125 48.484375 27.875 48.484375 \nQ 21.1875 48.484375 17.84375 46.4375 \nQ 14.5 44.390625 14.5 40.28125 \nQ 14.5 37.15625 16.890625 35.375 \nQ 19.28125 33.59375 26.515625 31.984375 \nL 29.59375 31.296875 \nQ 39.15625 29.25 43.1875 25.515625 \nQ 47.21875 21.78125 47.21875 15.09375 \nQ 47.21875 7.46875 41.1875 3.015625 \nQ 35.15625 -1.421875 24.609375 -1.421875 \nQ 20.21875 -1.421875 15.453125 -0.5625 \nQ 10.6875 0.296875 5.421875 2 \nL 5.421875 11.28125 \nQ 10.40625 8.6875 15.234375 7.390625 \nQ 20.0625 6.109375 24.8125 6.109375 \nQ 31.15625 6.109375 34.5625 8.28125 \nQ 37.984375 10.453125 37.984375 14.40625 \nQ 37.984375 18.0625 35.515625 20.015625 \nQ 33.0625 21.96875 24.703125 23.78125 \nL 21.578125 24.515625 \nQ 13.234375 26.265625 9.515625 29.90625 \nQ 5.8125 33.546875 5.8125 39.890625 \nQ 5.8125 47.609375 11.28125 51.796875 \nQ 16.75 56 26.8125 56 \nQ 31.78125 56 36.171875 55.265625 \nQ 40.578125 54.546875 44.28125 53.078125 \nz\n\" id=\"DejaVuSans-115\"/>\n      <path d=\"M 18.3125 70.21875 \nL 18.3125 54.6875 \nL 36.8125 54.6875 \nL 36.8125 47.703125 \nL 18.3125 47.703125 \nL 18.3125 18.015625 \nQ 18.3125 11.328125 20.140625 9.421875 \nQ 21.96875 7.515625 27.59375 7.515625 \nL 36.8125 7.515625 \nL 36.8125 0 \nL 27.59375 0 \nQ 17.1875 0 13.234375 3.875 \nQ 9.28125 7.765625 9.28125 18.015625 \nL 9.28125 47.703125 \nL 2.6875 47.703125 \nL 2.6875 54.6875 \nL 9.28125 54.6875 \nL 9.28125 70.21875 \nz\n\" id=\"DejaVuSans-116\"/>\n      <path d=\"M 30.609375 48.390625 \nQ 23.390625 48.390625 19.1875 42.75 \nQ 14.984375 37.109375 14.984375 27.296875 \nQ 14.984375 17.484375 19.15625 11.84375 \nQ 23.34375 6.203125 30.609375 6.203125 \nQ 37.796875 6.203125 41.984375 11.859375 \nQ 46.1875 17.53125 46.1875 27.296875 \nQ 46.1875 37.015625 41.984375 42.703125 \nQ 37.796875 48.390625 30.609375 48.390625 \nz\nM 30.609375 56 \nQ 42.328125 56 49.015625 48.375 \nQ 55.71875 40.765625 55.71875 27.296875 \nQ 55.71875 13.875 49.015625 6.21875 \nQ 42.328125 -1.421875 30.609375 -1.421875 \nQ 18.84375 -1.421875 12.171875 6.21875 \nQ 5.515625 13.875 5.515625 27.296875 \nQ 5.515625 40.765625 12.171875 48.375 \nQ 18.84375 56 30.609375 56 \nz\n\" id=\"DejaVuSans-111\"/>\n      <path d=\"M 45.40625 27.984375 \nQ 45.40625 37.75 41.375 43.109375 \nQ 37.359375 48.484375 30.078125 48.484375 \nQ 22.859375 48.484375 18.828125 43.109375 \nQ 14.796875 37.75 14.796875 27.984375 \nQ 14.796875 18.265625 18.828125 12.890625 \nQ 22.859375 7.515625 30.078125 7.515625 \nQ 37.359375 7.515625 41.375 12.890625 \nQ 45.40625 18.265625 45.40625 27.984375 \nz\nM 54.390625 6.78125 \nQ 54.390625 -7.171875 48.1875 -13.984375 \nQ 42 -20.796875 29.203125 -20.796875 \nQ 24.46875 -20.796875 20.265625 -20.09375 \nQ 16.0625 -19.390625 12.109375 -17.921875 \nL 12.109375 -9.1875 \nQ 16.0625 -11.328125 19.921875 -12.34375 \nQ 23.78125 -13.375 27.78125 -13.375 \nQ 36.625 -13.375 41.015625 -8.765625 \nQ 45.40625 -4.15625 45.40625 5.171875 \nL 45.40625 9.625 \nQ 42.625 4.78125 38.28125 2.390625 \nQ 33.9375 0 27.875 0 \nQ 17.828125 0 11.671875 7.65625 \nQ 5.515625 15.328125 5.515625 27.984375 \nQ 5.515625 40.671875 11.671875 48.328125 \nQ 17.828125 56 27.875 56 \nQ 33.9375 56 38.28125 53.609375 \nQ 42.625 51.21875 45.40625 46.390625 \nL 45.40625 54.6875 \nL 54.390625 54.6875 \nz\n\" id=\"DejaVuSans-103\"/>\n      <path d=\"M 41.109375 46.296875 \nQ 39.59375 47.171875 37.8125 47.578125 \nQ 36.03125 48 33.890625 48 \nQ 26.265625 48 22.1875 43.046875 \nQ 18.109375 38.09375 18.109375 28.8125 \nL 18.109375 0 \nL 9.078125 0 \nL 9.078125 54.6875 \nL 18.109375 54.6875 \nL 18.109375 46.1875 \nQ 20.953125 51.171875 25.484375 53.578125 \nQ 30.03125 56 36.53125 56 \nQ 37.453125 56 38.578125 55.875 \nQ 39.703125 55.765625 41.0625 55.515625 \nz\n\" id=\"DejaVuSans-114\"/>\n      <path d=\"M 34.28125 27.484375 \nQ 23.390625 27.484375 19.1875 25 \nQ 14.984375 22.515625 14.984375 16.5 \nQ 14.984375 11.71875 18.140625 8.90625 \nQ 21.296875 6.109375 26.703125 6.109375 \nQ 34.1875 6.109375 38.703125 11.40625 \nQ 43.21875 16.703125 43.21875 25.484375 \nL 43.21875 27.484375 \nz\nM 52.203125 31.203125 \nL 52.203125 0 \nL 43.21875 0 \nL 43.21875 8.296875 \nQ 40.140625 3.328125 35.546875 0.953125 \nQ 30.953125 -1.421875 24.3125 -1.421875 \nQ 15.921875 -1.421875 10.953125 3.296875 \nQ 6 8.015625 6 15.921875 \nQ 6 25.140625 12.171875 29.828125 \nQ 18.359375 34.515625 30.609375 34.515625 \nL 43.21875 34.515625 \nL 43.21875 35.40625 \nQ 43.21875 41.609375 39.140625 45 \nQ 35.0625 48.390625 27.6875 48.390625 \nQ 23 48.390625 18.546875 47.265625 \nQ 14.109375 46.140625 10.015625 43.890625 \nL 10.015625 52.203125 \nQ 14.9375 54.109375 19.578125 55.046875 \nQ 24.21875 56 28.609375 56 \nQ 40.484375 56 46.34375 49.84375 \nQ 52.203125 43.703125 52.203125 31.203125 \nz\n\" id=\"DejaVuSans-97\"/>\n      <path d=\"M 52 44.1875 \nQ 55.375 50.25 60.0625 53.125 \nQ 64.75 56 71.09375 56 \nQ 79.640625 56 84.28125 50.015625 \nQ 88.921875 44.046875 88.921875 33.015625 \nL 88.921875 0 \nL 79.890625 0 \nL 79.890625 32.71875 \nQ 79.890625 40.578125 77.09375 44.375 \nQ 74.3125 48.1875 68.609375 48.1875 \nQ 61.625 48.1875 57.5625 43.546875 \nQ 53.515625 38.921875 53.515625 30.90625 \nL 53.515625 0 \nL 44.484375 0 \nL 44.484375 32.71875 \nQ 44.484375 40.625 41.703125 44.40625 \nQ 38.921875 48.1875 33.109375 48.1875 \nQ 26.21875 48.1875 22.15625 43.53125 \nQ 18.109375 38.875 18.109375 30.90625 \nL 18.109375 0 \nL 9.078125 0 \nL 9.078125 54.6875 \nL 18.109375 54.6875 \nL 18.109375 46.1875 \nQ 21.1875 51.21875 25.484375 53.609375 \nQ 29.78125 56 35.6875 56 \nQ 41.65625 56 45.828125 52.96875 \nQ 50 49.953125 52 44.1875 \nz\n\" id=\"DejaVuSans-109\"/>\n     </defs>\n     <use xlink:href=\"#DejaVuSans-104\"/>\n     <use x=\"63.378906\" xlink:href=\"#DejaVuSans-105\"/>\n     <use x=\"91.162109\" xlink:href=\"#DejaVuSans-115\"/>\n     <use x=\"143.261719\" xlink:href=\"#DejaVuSans-116\"/>\n     <use x=\"182.470703\" xlink:href=\"#DejaVuSans-111\"/>\n     <use x=\"243.652344\" xlink:href=\"#DejaVuSans-103\"/>\n     <use x=\"307.128906\" xlink:href=\"#DejaVuSans-114\"/>\n     <use x=\"348.242188\" xlink:href=\"#DejaVuSans-97\"/>\n     <use x=\"409.521484\" xlink:href=\"#DejaVuSans-109\"/>\n    </g>\n   </g>\n  </g>\n </g>\n <defs>\n  <clipPath id=\"pc1b5ec26d5\">\n   <rect height=\"217.44\" width=\"334.8\" x=\"39.65\" y=\"22.318125\"/>\n  </clipPath>\n </defs>\n</svg>\n",
      "image/png": "[encoded data removed]"
     },
     "metadata": {
      "needs_background": "light"
     }
    }
   ],
   "source": [
    "plt.hist(train_label) \n",
    "plt.title(\"histogram\") \n",
    "plt.show()"
   ]
  },
  {
   "cell_type": "code",
   "execution_count": 9,
   "metadata": {},
   "outputs": [
    {
     "output_type": "display_data",
     "data": {
      "text/plain": "<Figure size 432x288 with 8 Axes>",
      "image/svg+xml": "<?xml version=\"1.0\" encoding=\"utf-8\" standalone=\"no\"?>\n<!DOCTYPE svg PUBLIC \"-//W3C//DTD SVG 1.1//EN\"\n  \"http://www.w3.org/Graphics/SVG/1.1/DTD/svg11.dtd\">\n<!-- Created with matplotlib (https://matplotlib.org/) -->\n<svg height=\"279.59625pt\" version=\"1.1\" viewBox=\"0 0 345.901027 279.59625\" width=\"345.901027pt\" xmlns=\"http://www.w3.org/2000/svg\" xmlns:xlink=\"http://www.w3.org/1999/xlink\">\n <metadata>\n  <rdf:RDF xmlns:cc=\"http://creativecommons.org/ns#\" xmlns:dc=\"http://purl.org/dc/elements/1.1/\" xmlns:rdf=\"http://www.w3.org/1999/02/22-rdf-syntax-ns#\">\n   <cc:Work>\n    <dc:type rdf:resource=\"http://purl.org/dc/dcmitype/StillImage\"/>\n    <dc:date>2021-01-10T11:35:38.155245</dc:date>\n    <dc:format>image/svg+xml</dc:format>\n    <dc:creator>\n     <cc:Agent>\n      <dc:title>Matplotlib v3.3.2, https://matplotlib.org/</dc:title>\n     </cc:Agent>\n    </dc:creator>\n   </cc:Work>\n  </rdf:RDF>\n </metadata>\n <defs>\n  <style type=\"text/css\">*{stroke-linecap:butt;stroke-linejoin:round;}</style>\n </defs>\n <g id=\"figure_1\">\n  <g id=\"patch_1\">\n   <path d=\"M 0 279.59625 \nL 345.901027 279.59625 \nL 345.901027 0 \nL 0 0 \nz\n\" style=\"fill:none;\"/>\n  </g>\n  <g id=\"axes_1\">\n   <g id=\"patch_2\">\n    <path d=\"M 26.925 70.918125 \nL 75.525 70.918125 \nL 75.525 22.318125 \nL 26.925 22.318125 \nz\n\" style=\"fill:#ffffff;\"/>\n   </g>\n   <g clip-path=\"url(#p9c54c088c3)\">\n    <image height=\"28\" id=\"imagea49f8975b8\" style=\"image-rendering:crisp-edges;image-rendering:pixelated\" transform=\"matrix(1.75 0 0 1.75 26.925 21.918125)\" width=\"28\" xlink:href=\"data:image/png;base64,\niVBORw0KGgoAAAANSUhEUgAAABwAAAAcCAYAAAByDd+UAAAFlklEQVR4nJ2WzU8TaxSHn/notKVTmBZoJQUJgRRtSDQRQWPCxsjGuFEWLk1cuXXhln/BhRsTDYmJMQZ3JuyIGoyy0AUqmvrZIq0FK7R02ul8tXfhZVJU8F7OaiY5c573fP3mFYAm/5ogCDSb3qtnXV1djI+PMzU1heu6ZDIZyuUyPT09JJNJOjs7uXPnDnNzc6ytrf32fasJrcBW8/l8nD59mpGREcLhMMViEVEUicfjDAwMsLy8jKqqjI2N8fDhQzY2Njh06BCmaZJOp5mfn2d9ff2/AQ8cOMC1a9fI5XKsrq7iui6yLGOaJvV6nVAohG3bNBoNbNvGMAy6urqQJAlJktA0jWQyyfXr18lms38HXrlyBVEUKZVKVCoVOjo6PECj0cCyLFzXRRAERFFEURQATNNE0zS2trZQVRVVVbl58+aO2PKvsL6+PiRJolqt0tfXx+PHjykUCsiyjOM4tLe3U6lUEAQBx3GwLMs7iKZpmKZJKBTCsiwURaG/v39Hlr8BT5w4werqKslkEoDu7m4mJyd5//49tm1TKpWYnp5mbm6OTCaDLMtcvHgRVVV58OAB6XSaer1ONBqlXC6TSqX2Bvb29vL8+XMSiQSKojA8PMypU6c4e/YspVIJURR5+fIlb9++ZXp6GlVVyeVy9Pf3MzU1xaNHj3jx4gW2bWOaJn19fbuX9OjRo1SrVWRZpl6vEw6HMU2Tjx8/YpomQ0NDxGIxVlZWiEajvH79GsMwCIVCGIaB67okEgkWFhaIRCKUSiVc12VwcJBPnz4BILYCT548SSAQAPAmTtd1DMOgvb2dL1++MDMzQyQSIZlMMjQ0hG3b5PN5DMNA13U2Nze9HgcCAWKxGCMjI3/O8NatWxw7doxwOEwikUAURQKBAMePH6dareL3+xkdHeXbt2/cvn2b4eFhxsfHiUajZDIZ4vE4+XweURQZGBggn8/z5MkTnj179megbdssLi4CUKlUOHPmDJZlMTMzw/nz57l//z7nzp0jkUhw8OBBlpaW+P79Oz09Pbx7947JyUlqtRqiKDI/P8/Tp09/HZGdJW21xcVF5ufniUQiTExMUCqVuHr1KvV6nXv37rG0tMTo6CiDg4OUy2X8fj/NZpNSqcT6+roHEwRhb2CrQzweJ5vNoigKjuOwsLBApVIhGAxSq9X48OED2WyWYDBIIpGgUCiQy+XQNM2L8as2/7YWrQ4dHR0UCgUsyyKVSlEsFhkbG2N2dpZLly4xMTGB4zisr69jmibxeJxgMIht27sV7ndgq9m2TbPZpFarkc1muXv3Ljdu3KBYLHL58mVmZ2dZXl5GURRGRkb4+vUr1WrVm/T/DXRdF1VVefXqFW1tbRw5coR8Ps/hw4dJp9MoioKmaQQCAXRdp1gsehq7L6AgCGiahmVZOI5DvV5nbW3NW+JgMMiPHz/o7e1la2sLRVE8Id8XUNd1VFVldXUVXdeRJAlBEPj8+TPd3d1sbGxgGAabm5ueiCeTSfx+//6Afr8fWZZRVZVms0lnZyfFYhFN0wiHw4iiiM/n83wty8Lv9yOKu27b7nsIeDrZaDS83mw/b2ckyzKNRgNRFJFlGcuy9g/cDr4dbHsY/H4/gUDAK7EkSV6Pgf0D4efdxnEcDwQ/hR3wBNrn89FsNlEUxXveF1BRFCRJwnVdJEnCtu0dp98u6ba1tbUhSdL+gbFYzPtNBQIBGo2GV0LXdb2B8fl8CIKwo6/7Auq6juM43uQJguD10XVdqtWqdxhJkjy/vdZiT2AqlUJRFBqNBvBTZ1szlmXZm9Ltktdqtb1C/n0PfT4fwWDQK9X2UFiWRbPZ3LEWiqKQSCRYWVnZNeauN2/4ecW/cOECoih6S24YhidjruvS0dGBruuYpkm5XCafz/PmzRtc1/1jzH8AySSvD/IWx5YAAAAASUVORK5CYII=\"/>\n   </g>\n   <g id=\"matplotlib.axis_1\">\n    <g id=\"xtick_1\">\n     <g id=\"line2d_1\">\n      <defs>\n       <path d=\"M 0 0 \nL 0 3.5 \n\" id=\"me425bb8d11\" style=\"stroke:#000000;stroke-width:0.8;\"/>\n      </defs>\n      <g>\n       <use style=\"stroke:#000000;stroke-width:0.8;\" x=\"27.792857\" xlink:href=\"#me425bb8d11\" y=\"70.918125\"/>\n      </g>\n     </g>\n     <g id=\"text_1\">\n      <!-- 0 -->\n      <g transform=\"translate(24.611607 85.516562)scale(0.1 -0.1)\">\n       <defs>\n        <path d=\"M 31.78125 66.40625 \nQ 24.171875 66.40625 20.328125 58.90625 \nQ 16.5 51.421875 16.5 36.375 \nQ 16.5 21.390625 20.328125 13.890625 \nQ 24.171875 6.390625 31.78125 6.390625 \nQ 39.453125 6.390625 43.28125 13.890625 \nQ 47.125 21.390625 47.125 36.375 \nQ 47.125 51.421875 43.28125 58.90625 \nQ 39.453125 66.40625 31.78125 66.40625 \nz\nM 31.78125 74.21875 \nQ 44.046875 74.21875 50.515625 64.515625 \nQ 56.984375 54.828125 56.984375 36.375 \nQ 56.984375 17.96875 50.515625 8.265625 \nQ 44.046875 -1.421875 31.78125 -1.421875 \nQ 19.53125 -1.421875 13.0625 8.265625 \nQ 6.59375 17.96875 6.59375 36.375 \nQ 6.59375 54.828125 13.0625 64.515625 \nQ 19.53125 74.21875 31.78125 74.21875 \nz\n\" id=\"DejaVuSans-48\"/>\n       </defs>\n       <use xlink:href=\"#DejaVuSans-48\"/>\n      </g>\n     </g>\n    </g>\n    <g id=\"xtick_2\">\n     <g id=\"line2d_2\">\n      <g>\n       <use style=\"stroke:#000000;stroke-width:0.8;\" x=\"71.185714\" xlink:href=\"#me425bb8d11\" y=\"70.918125\"/>\n      </g>\n     </g>\n     <g id=\"text_2\">\n      <!-- 25 -->\n      <g transform=\"translate(64.823214 85.516562)scale(0.1 -0.1)\">\n       <defs>\n        <path d=\"M 19.1875 8.296875 \nL 53.609375 8.296875 \nL 53.609375 0 \nL 7.328125 0 \nL 7.328125 8.296875 \nQ 12.9375 14.109375 22.625 23.890625 \nQ 32.328125 33.6875 34.8125 36.53125 \nQ 39.546875 41.84375 41.421875 45.53125 \nQ 43.3125 49.21875 43.3125 52.78125 \nQ 43.3125 58.59375 39.234375 62.25 \nQ 35.15625 65.921875 28.609375 65.921875 \nQ 23.96875 65.921875 18.8125 64.3125 \nQ 13.671875 62.703125 7.8125 59.421875 \nL 7.8125 69.390625 \nQ 13.765625 71.78125 18.9375 73 \nQ 24.125 74.21875 28.421875 74.21875 \nQ 39.75 74.21875 46.484375 68.546875 \nQ 53.21875 62.890625 53.21875 53.421875 \nQ 53.21875 48.921875 51.53125 44.890625 \nQ 49.859375 40.875 45.40625 35.40625 \nQ 44.1875 33.984375 37.640625 27.21875 \nQ 31.109375 20.453125 19.1875 8.296875 \nz\n\" id=\"DejaVuSans-50\"/>\n        <path d=\"M 10.796875 72.90625 \nL 49.515625 72.90625 \nL 49.515625 64.59375 \nL 19.828125 64.59375 \nL 19.828125 46.734375 \nQ 21.96875 47.46875 24.109375 47.828125 \nQ 26.265625 48.1875 28.421875 48.1875 \nQ 40.625 48.1875 47.75 41.5 \nQ 54.890625 34.8125 54.890625 23.390625 \nQ 54.890625 11.625 47.5625 5.09375 \nQ 40.234375 -1.421875 26.90625 -1.421875 \nQ 22.3125 -1.421875 17.546875 -0.640625 \nQ 12.796875 0.140625 7.71875 1.703125 \nL 7.71875 11.625 \nQ 12.109375 9.234375 16.796875 8.0625 \nQ 21.484375 6.890625 26.703125 6.890625 \nQ 35.15625 6.890625 40.078125 11.328125 \nQ 45.015625 15.765625 45.015625 23.390625 \nQ 45.015625 31 40.078125 35.4375 \nQ 35.15625 39.890625 26.703125 39.890625 \nQ 22.75 39.890625 18.8125 39.015625 \nQ 14.890625 38.140625 10.796875 36.28125 \nz\n\" id=\"DejaVuSans-53\"/>\n       </defs>\n       <use xlink:href=\"#DejaVuSans-50\"/>\n       <use x=\"63.623047\" xlink:href=\"#DejaVuSans-53\"/>\n      </g>\n     </g>\n    </g>\n   </g>\n   <g id=\"matplotlib.axis_2\">\n    <g id=\"ytick_1\">\n     <g id=\"line2d_3\">\n      <defs>\n       <path d=\"M 0 0 \nL -3.5 0 \n\" id=\"mc54a5fa5a7\" style=\"stroke:#000000;stroke-width:0.8;\"/>\n      </defs>\n      <g>\n       <use style=\"stroke:#000000;stroke-width:0.8;\" x=\"26.925\" xlink:href=\"#mc54a5fa5a7\" y=\"23.185982\"/>\n      </g>\n     </g>\n     <g id=\"text_3\">\n      <!-- 0 -->\n      <g transform=\"translate(13.5625 26.985201)scale(0.1 -0.1)\">\n       <use xlink:href=\"#DejaVuSans-48\"/>\n      </g>\n     </g>\n    </g>\n    <g id=\"ytick_2\">\n     <g id=\"line2d_4\">\n      <g>\n       <use style=\"stroke:#000000;stroke-width:0.8;\" x=\"26.925\" xlink:href=\"#mc54a5fa5a7\" y=\"57.900268\"/>\n      </g>\n     </g>\n     <g id=\"text_4\">\n      <!-- 20 -->\n      <g transform=\"translate(7.2 61.699487)scale(0.1 -0.1)\">\n       <use xlink:href=\"#DejaVuSans-50\"/>\n       <use x=\"63.623047\" xlink:href=\"#DejaVuSans-48\"/>\n      </g>\n     </g>\n    </g>\n   </g>\n   <g id=\"patch_3\">\n    <path d=\"M 26.925 70.918125 \nL 26.925 22.318125 \n\" style=\"fill:none;stroke:#000000;stroke-linecap:square;stroke-linejoin:miter;stroke-width:0.8;\"/>\n   </g>\n   <g id=\"patch_4\">\n    <path d=\"M 75.525 70.918125 \nL 75.525 22.318125 \n\" style=\"fill:none;stroke:#000000;stroke-linecap:square;stroke-linejoin:miter;stroke-width:0.8;\"/>\n   </g>\n   <g id=\"patch_5\">\n    <path d=\"M 26.925 70.918125 \nL 75.525 70.918125 \n\" style=\"fill:none;stroke:#000000;stroke-linecap:square;stroke-linejoin:miter;stroke-width:0.8;\"/>\n   </g>\n   <g id=\"patch_6\">\n    <path d=\"M 26.925 22.318125 \nL 75.525 22.318125 \n\" style=\"fill:none;stroke:#000000;stroke-linecap:square;stroke-linejoin:miter;stroke-width:0.8;\"/>\n   </g>\n   <g id=\"text_5\">\n    <!--  Class 0.0 -->\n    <g transform=\"translate(22.084687 16.318125)scale(0.12 -0.12)\">\n     <defs>\n      <path id=\"DejaVuSans-32\"/>\n      <path d=\"M 64.40625 67.28125 \nL 64.40625 56.890625 \nQ 59.421875 61.53125 53.78125 63.8125 \nQ 48.140625 66.109375 41.796875 66.109375 \nQ 29.296875 66.109375 22.65625 58.46875 \nQ 16.015625 50.828125 16.015625 36.375 \nQ 16.015625 21.96875 22.65625 14.328125 \nQ 29.296875 6.6875 41.796875 6.6875 \nQ 48.140625 6.6875 53.78125 8.984375 \nQ 59.421875 11.28125 64.40625 15.921875 \nL 64.40625 5.609375 \nQ 59.234375 2.09375 53.4375 0.328125 \nQ 47.65625 -1.421875 41.21875 -1.421875 \nQ 24.65625 -1.421875 15.125 8.703125 \nQ 5.609375 18.84375 5.609375 36.375 \nQ 5.609375 53.953125 15.125 64.078125 \nQ 24.65625 74.21875 41.21875 74.21875 \nQ 47.75 74.21875 53.53125 72.484375 \nQ 59.328125 70.75 64.40625 67.28125 \nz\n\" id=\"DejaVuSans-67\"/>\n      <path d=\"M 9.421875 75.984375 \nL 18.40625 75.984375 \nL 18.40625 0 \nL 9.421875 0 \nz\n\" id=\"DejaVuSans-108\"/>\n      <path d=\"M 34.28125 27.484375 \nQ 23.390625 27.484375 19.1875 25 \nQ 14.984375 22.515625 14.984375 16.5 \nQ 14.984375 11.71875 18.140625 8.90625 \nQ 21.296875 6.109375 26.703125 6.109375 \nQ 34.1875 6.109375 38.703125 11.40625 \nQ 43.21875 16.703125 43.21875 25.484375 \nL 43.21875 27.484375 \nz\nM 52.203125 31.203125 \nL 52.203125 0 \nL 43.21875 0 \nL 43.21875 8.296875 \nQ 40.140625 3.328125 35.546875 0.953125 \nQ 30.953125 -1.421875 24.3125 -1.421875 \nQ 15.921875 -1.421875 10.953125 3.296875 \nQ 6 8.015625 6 15.921875 \nQ 6 25.140625 12.171875 29.828125 \nQ 18.359375 34.515625 30.609375 34.515625 \nL 43.21875 34.515625 \nL 43.21875 35.40625 \nQ 43.21875 41.609375 39.140625 45 \nQ 35.0625 48.390625 27.6875 48.390625 \nQ 23 48.390625 18.546875 47.265625 \nQ 14.109375 46.140625 10.015625 43.890625 \nL 10.015625 52.203125 \nQ 14.9375 54.109375 19.578125 55.046875 \nQ 24.21875 56 28.609375 56 \nQ 40.484375 56 46.34375 49.84375 \nQ 52.203125 43.703125 52.203125 31.203125 \nz\n\" id=\"DejaVuSans-97\"/>\n      <path d=\"M 44.28125 53.078125 \nL 44.28125 44.578125 \nQ 40.484375 46.53125 36.375 47.5 \nQ 32.28125 48.484375 27.875 48.484375 \nQ 21.1875 48.484375 17.84375 46.4375 \nQ 14.5 44.390625 14.5 40.28125 \nQ 14.5 37.15625 16.890625 35.375 \nQ 19.28125 33.59375 26.515625 31.984375 \nL 29.59375 31.296875 \nQ 39.15625 29.25 43.1875 25.515625 \nQ 47.21875 21.78125 47.21875 15.09375 \nQ 47.21875 7.46875 41.1875 3.015625 \nQ 35.15625 -1.421875 24.609375 -1.421875 \nQ 20.21875 -1.421875 15.453125 -0.5625 \nQ 10.6875 0.296875 5.421875 2 \nL 5.421875 11.28125 \nQ 10.40625 8.6875 15.234375 7.390625 \nQ 20.0625 6.109375 24.8125 6.109375 \nQ 31.15625 6.109375 34.5625 8.28125 \nQ 37.984375 10.453125 37.984375 14.40625 \nQ 37.984375 18.0625 35.515625 20.015625 \nQ 33.0625 21.96875 24.703125 23.78125 \nL 21.578125 24.515625 \nQ 13.234375 26.265625 9.515625 29.90625 \nQ 5.8125 33.546875 5.8125 39.890625 \nQ 5.8125 47.609375 11.28125 51.796875 \nQ 16.75 56 26.8125 56 \nQ 31.78125 56 36.171875 55.265625 \nQ 40.578125 54.546875 44.28125 53.078125 \nz\n\" id=\"DejaVuSans-115\"/>\n      <path d=\"M 10.6875 12.40625 \nL 21 12.40625 \nL 21 0 \nL 10.6875 0 \nz\n\" id=\"DejaVuSans-46\"/>\n     </defs>\n     <use xlink:href=\"#DejaVuSans-32\"/>\n     <use x=\"31.787109\" xlink:href=\"#DejaVuSans-67\"/>\n     <use x=\"101.611328\" xlink:href=\"#DejaVuSans-108\"/>\n     <use x=\"129.394531\" xlink:href=\"#DejaVuSans-97\"/>\n     <use x=\"190.673828\" xlink:href=\"#DejaVuSans-115\"/>\n     <use x=\"242.773438\" xlink:href=\"#DejaVuSans-115\"/>\n     <use x=\"294.873047\" xlink:href=\"#DejaVuSans-32\"/>\n     <use x=\"326.660156\" xlink:href=\"#DejaVuSans-48\"/>\n     <use x=\"390.283203\" xlink:href=\"#DejaVuSans-46\"/>\n     <use x=\"422.070312\" xlink:href=\"#DejaVuSans-48\"/>\n    </g>\n   </g>\n  </g>\n  <g id=\"axes_2\">\n   <g id=\"patch_7\">\n    <path d=\"M 156.092857 70.918125 \nL 204.692857 70.918125 \nL 204.692857 22.318125 \nL 156.092857 22.318125 \nz\n\" style=\"fill:#ffffff;\"/>\n   </g>\n   <g clip-path=\"url(#p912c2fdaf5)\">\n    <image height=\"28\" id=\"image7c98ab9b3d\" style=\"image-rendering:crisp-edges;image-rendering:pixelated\" transform=\"matrix(1.75 0 0 1.75 156.092857 21.918125)\" width=\"28\" xlink:href=\"data:image/png;base64,\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\"/>\n   </g>\n   <g id=\"matplotlib.axis_3\">\n    <g id=\"xtick_3\">\n     <g id=\"line2d_5\">\n      <g>\n       <use style=\"stroke:#000000;stroke-width:0.8;\" x=\"156.960714\" xlink:href=\"#me425bb8d11\" y=\"70.918125\"/>\n      </g>\n     </g>\n     <g id=\"text_6\">\n      <!-- 0 -->\n      <g transform=\"translate(153.779464 85.516562)scale(0.1 -0.1)\">\n       <use xlink:href=\"#DejaVuSans-48\"/>\n      </g>\n     </g>\n    </g>\n    <g id=\"xtick_4\">\n     <g id=\"line2d_6\">\n      <g>\n       <use style=\"stroke:#000000;stroke-width:0.8;\" x=\"200.353571\" xlink:href=\"#me425bb8d11\" y=\"70.918125\"/>\n      </g>\n     </g>\n     <g id=\"text_7\">\n      <!-- 25 -->\n      <g transform=\"translate(193.991071 85.516562)scale(0.1 -0.1)\">\n       <use xlink:href=\"#DejaVuSans-50\"/>\n       <use x=\"63.623047\" xlink:href=\"#DejaVuSans-53\"/>\n      </g>\n     </g>\n    </g>\n   </g>\n   <g id=\"matplotlib.axis_4\">\n    <g id=\"ytick_3\">\n     <g id=\"line2d_7\">\n      <g>\n       <use style=\"stroke:#000000;stroke-width:0.8;\" x=\"156.092857\" xlink:href=\"#mc54a5fa5a7\" y=\"23.185982\"/>\n      </g>\n     </g>\n     <g id=\"text_8\">\n      <!-- 0 -->\n      <g transform=\"translate(142.730357 26.985201)scale(0.1 -0.1)\">\n       <use xlink:href=\"#DejaVuSans-48\"/>\n      </g>\n     </g>\n    </g>\n    <g id=\"ytick_4\">\n     <g id=\"line2d_8\">\n      <g>\n       <use style=\"stroke:#000000;stroke-width:0.8;\" x=\"156.092857\" xlink:href=\"#mc54a5fa5a7\" y=\"57.900268\"/>\n      </g>\n     </g>\n     <g id=\"text_9\">\n      <!-- 20 -->\n      <g transform=\"translate(136.367857 61.699487)scale(0.1 -0.1)\">\n       <use xlink:href=\"#DejaVuSans-50\"/>\n       <use x=\"63.623047\" xlink:href=\"#DejaVuSans-48\"/>\n      </g>\n     </g>\n    </g>\n   </g>\n   <g id=\"patch_8\">\n    <path d=\"M 156.092857 70.918125 \nL 156.092857 22.318125 \n\" style=\"fill:none;stroke:#000000;stroke-linecap:square;stroke-linejoin:miter;stroke-width:0.8;\"/>\n   </g>\n   <g id=\"patch_9\">\n    <path d=\"M 204.692857 70.918125 \nL 204.692857 22.318125 \n\" style=\"fill:none;stroke:#000000;stroke-linecap:square;stroke-linejoin:miter;stroke-width:0.8;\"/>\n   </g>\n   <g id=\"patch_10\">\n    <path d=\"M 156.092857 70.918125 \nL 204.692857 70.918125 \n\" style=\"fill:none;stroke:#000000;stroke-linecap:square;stroke-linejoin:miter;stroke-width:0.8;\"/>\n   </g>\n   <g id=\"patch_11\">\n    <path d=\"M 156.092857 22.318125 \nL 204.692857 22.318125 \n\" style=\"fill:none;stroke:#000000;stroke-linecap:square;stroke-linejoin:miter;stroke-width:0.8;\"/>\n   </g>\n   <g id=\"text_10\">\n    <!--  Class 8.0 -->\n    <g transform=\"translate(151.252545 16.318125)scale(0.12 -0.12)\">\n     <defs>\n      <path d=\"M 31.78125 34.625 \nQ 24.75 34.625 20.71875 30.859375 \nQ 16.703125 27.09375 16.703125 20.515625 \nQ 16.703125 13.921875 20.71875 10.15625 \nQ 24.75 6.390625 31.78125 6.390625 \nQ 38.8125 6.390625 42.859375 10.171875 \nQ 46.921875 13.96875 46.921875 20.515625 \nQ 46.921875 27.09375 42.890625 30.859375 \nQ 38.875 34.625 31.78125 34.625 \nz\nM 21.921875 38.8125 \nQ 15.578125 40.375 12.03125 44.71875 \nQ 8.5 49.078125 8.5 55.328125 \nQ 8.5 64.0625 14.71875 69.140625 \nQ 20.953125 74.21875 31.78125 74.21875 \nQ 42.671875 74.21875 48.875 69.140625 \nQ 55.078125 64.0625 55.078125 55.328125 \nQ 55.078125 49.078125 51.53125 44.71875 \nQ 48 40.375 41.703125 38.8125 \nQ 48.828125 37.15625 52.796875 32.3125 \nQ 56.78125 27.484375 56.78125 20.515625 \nQ 56.78125 9.90625 50.3125 4.234375 \nQ 43.84375 -1.421875 31.78125 -1.421875 \nQ 19.734375 -1.421875 13.25 4.234375 \nQ 6.78125 9.90625 6.78125 20.515625 \nQ 6.78125 27.484375 10.78125 32.3125 \nQ 14.796875 37.15625 21.921875 38.8125 \nz\nM 18.3125 54.390625 \nQ 18.3125 48.734375 21.84375 45.5625 \nQ 25.390625 42.390625 31.78125 42.390625 \nQ 38.140625 42.390625 41.71875 45.5625 \nQ 45.3125 48.734375 45.3125 54.390625 \nQ 45.3125 60.0625 41.71875 63.234375 \nQ 38.140625 66.40625 31.78125 66.40625 \nQ 25.390625 66.40625 21.84375 63.234375 \nQ 18.3125 60.0625 18.3125 54.390625 \nz\n\" id=\"DejaVuSans-56\"/>\n     </defs>\n     <use xlink:href=\"#DejaVuSans-32\"/>\n     <use x=\"31.787109\" xlink:href=\"#DejaVuSans-67\"/>\n     <use x=\"101.611328\" xlink:href=\"#DejaVuSans-108\"/>\n     <use x=\"129.394531\" xlink:href=\"#DejaVuSans-97\"/>\n     <use x=\"190.673828\" xlink:href=\"#DejaVuSans-115\"/>\n     <use x=\"242.773438\" xlink:href=\"#DejaVuSans-115\"/>\n     <use x=\"294.873047\" xlink:href=\"#DejaVuSans-32\"/>\n     <use x=\"326.660156\" xlink:href=\"#DejaVuSans-56\"/>\n     <use x=\"390.283203\" xlink:href=\"#DejaVuSans-46\"/>\n     <use x=\"422.070312\" xlink:href=\"#DejaVuSans-48\"/>\n    </g>\n   </g>\n  </g>\n  <g id=\"axes_3\">\n   <g id=\"patch_12\">\n    <path d=\"M 285.260714 70.918125 \nL 333.860714 70.918125 \nL 333.860714 22.318125 \nL 285.260714 22.318125 \nz\n\" style=\"fill:#ffffff;\"/>\n   </g>\n   <g clip-path=\"url(#p92d11f6c47)\">\n    <image height=\"28\" id=\"imagefba1a69960\" style=\"image-rendering:crisp-edges;image-rendering:pixelated\" transform=\"matrix(1.75 0 0 1.75 285.260714 21.918125)\" width=\"28\" xlink:href=\"data:image/png;base64,\niVBORw0KGgoAAAANSUhEUgAAABwAAAAcCAYAAAByDd+UAAAEzklEQVR4nO2Wy2sUWRTGf7fq1qOL7qS6O91NJ+YhiYuIATW6kOhCQdSd4AOXggE3unAruNGN7nTnVgSFgAvBP0ARFxoUMRgEIdm0GjttKt1JP+rRdWfRpGaGYQYzAwMD80HBXdS53z3nO9+5VwCKfxHav0n2P+FfQtd1AA4cOMDr16//uLGmoes6Ukosy0r+h17TbOsTQiTrubk5FUWR+vz5s7p3795fxum6rv4R4bVr15TneWphYUEtLi6qjY0NpZRSJ0+eVPl8Xo2NjamhoSF1/vx5NTw83Itlm7YQQqBUL+Tt27eYpgmA67r09/cTRRHZbBaAIAjwfZ9MJsOTJ084e/bs9jXcIgN4+PAhk5OTlMtlyuUyQgiazSZLS0tUq1U2NzdptVqsra3h+37vwNvN8LfwfR/P89A0jW63i6ZpmKZJFEUASCmTDD98+MChQ4e2l6EQIlnfv3+fdrtNu91GKUU+n6dQKOC6LrZtE4YhrutiWRamaSaxcjuEuq4np798+TKVSgUpJel0mpcvXxJFEYZhMDw8zMTEBI1Gg83NTVzX5cGDBz9PKKUkiqKEbGZmhlqtRqfTwbIsgiCgXC7jOA6+72PbNvPz8zx+/JiZmRkajQa5XA74SeNvEW3h0aNHtNttTNPEtm3iOGZ0dBTbtjEMg76+PoQQdLtdTpw4QRzHXL9+/ecJf4sLFy4wMjKSlC+VSuF5Hs+fP6dUKuE4DisrK0RRhGmaSNkrYqVSAbbZpbdu3eLixYssLS0xODiYEG6Vd3V1lampKXRdp1Qqcfv2bRzH4ejRo0xNTSGE+D2hpmlomoZSijiOgV99d/PmTa5cuUK9Xse2bRzHoVarIaVESsng4CCVSoVGo0GhUCCfz6NpGmEY4nkexWIRIUSvpFstG8cxURTR7XZRSiVkd+7c4caNG7x//56+vj7iOCYIAhzHIQgCwjDk+/fvfPv2jY8fP5LJZKhWq3ieh+d5rK2tATA2Ntbr0q2NNU0jjmOklOTzeUqlElevXmV2dpaFhQV27dpFo9FASkmr1aLT6VCpVNi5cyfVapVWq8XevXt/NwCCICCKItbX1xkfH+8RFotFLl26xKlTpzhy5AiLi4uk02lSqRSGYfDp0yfq9Tq6rhPHMYZhYBgGxWIR13VZXl7GNE3K5TKu61Kv1zEMg2azyerqKs1mk4GBAXzf72l49+5ddu/ezYsXLxgZGeHw4cPYtk0URYmuQRCQSqVQSiGlRNd1LMtKpoplWUgp6XQ6KKUIw5A4jqnVamxsbDA+Ps709DRyz5497N+/HyklZ86cwff9pJXjOE60FEIghEi8F4Zhon1/f3/S+isrK6yvryeX79ZAL5VKWJaF5nkeX79+pdlsEgQB2WwWwzAQQuA4DrlcjkKhwMDAAOl0OtFG0zRSqRRPnz7l3LlzCCGYn58nm82Sy+XIZrPYtp1UIooi2u32r7YYHR3l+PHjHDt2jMnJSfL5PJlMJsnM93263S6+72OaJq9evWJ2dpZ6vZ749M2bNxw8eJBKpZJo1u12WV5eZnp6mn379v258ScmJpIhPDQ0RKlUQtM03r17x7Nnz/jy5csfYk6fPs2OHTv48eMHhmEQhmFiMSEEc3Nz/+w+/Dv47zwT/y5+AdGrRtXuskTmAAAAAElFTkSuQmCC\"/>\n   </g>\n   <g id=\"matplotlib.axis_5\">\n    <g id=\"xtick_5\">\n     <g id=\"line2d_9\">\n      <g>\n       <use style=\"stroke:#000000;stroke-width:0.8;\" x=\"286.128571\" xlink:href=\"#me425bb8d11\" y=\"70.918125\"/>\n      </g>\n     </g>\n     <g id=\"text_11\">\n      <!-- 0 -->\n      <g transform=\"translate(282.947321 85.516562)scale(0.1 -0.1)\">\n       <use xlink:href=\"#DejaVuSans-48\"/>\n      </g>\n     </g>\n    </g>\n    <g id=\"xtick_6\">\n     <g id=\"line2d_10\">\n      <g>\n       <use style=\"stroke:#000000;stroke-width:0.8;\" x=\"329.521429\" xlink:href=\"#me425bb8d11\" y=\"70.918125\"/>\n      </g>\n     </g>\n     <g id=\"text_12\">\n      <!-- 25 -->\n      <g transform=\"translate(323.158929 85.516562)scale(0.1 -0.1)\">\n       <use xlink:href=\"#DejaVuSans-50\"/>\n       <use x=\"63.623047\" xlink:href=\"#DejaVuSans-53\"/>\n      </g>\n     </g>\n    </g>\n   </g>\n   <g id=\"matplotlib.axis_6\">\n    <g id=\"ytick_5\">\n     <g id=\"line2d_11\">\n      <g>\n       <use style=\"stroke:#000000;stroke-width:0.8;\" x=\"285.260714\" xlink:href=\"#mc54a5fa5a7\" y=\"23.185982\"/>\n      </g>\n     </g>\n     <g id=\"text_13\">\n      <!-- 0 -->\n      <g transform=\"translate(271.898214 26.985201)scale(0.1 -0.1)\">\n       <use xlink:href=\"#DejaVuSans-48\"/>\n      </g>\n     </g>\n    </g>\n    <g id=\"ytick_6\">\n     <g id=\"line2d_12\">\n      <g>\n       <use style=\"stroke:#000000;stroke-width:0.8;\" x=\"285.260714\" xlink:href=\"#mc54a5fa5a7\" y=\"57.900268\"/>\n      </g>\n     </g>\n     <g id=\"text_14\">\n      <!-- 20 -->\n      <g transform=\"translate(265.535714 61.699487)scale(0.1 -0.1)\">\n       <use xlink:href=\"#DejaVuSans-50\"/>\n       <use x=\"63.623047\" xlink:href=\"#DejaVuSans-48\"/>\n      </g>\n     </g>\n    </g>\n   </g>\n   <g id=\"patch_13\">\n    <path d=\"M 285.260714 70.918125 \nL 285.260714 22.318125 \n\" style=\"fill:none;stroke:#000000;stroke-linecap:square;stroke-linejoin:miter;stroke-width:0.8;\"/>\n   </g>\n   <g id=\"patch_14\">\n    <path d=\"M 333.860714 70.918125 \nL 333.860714 22.318125 \n\" style=\"fill:none;stroke:#000000;stroke-linecap:square;stroke-linejoin:miter;stroke-width:0.8;\"/>\n   </g>\n   <g id=\"patch_15\">\n    <path d=\"M 285.260714 70.918125 \nL 333.860714 70.918125 \n\" style=\"fill:none;stroke:#000000;stroke-linecap:square;stroke-linejoin:miter;stroke-width:0.8;\"/>\n   </g>\n   <g id=\"patch_16\">\n    <path d=\"M 285.260714 22.318125 \nL 333.860714 22.318125 \n\" style=\"fill:none;stroke:#000000;stroke-linecap:square;stroke-linejoin:miter;stroke-width:0.8;\"/>\n   </g>\n   <g id=\"text_15\">\n    <!--  Class 9.0 -->\n    <g transform=\"translate(280.420402 16.318125)scale(0.12 -0.12)\">\n     <defs>\n      <path d=\"M 10.984375 1.515625 \nL 10.984375 10.5 \nQ 14.703125 8.734375 18.5 7.8125 \nQ 22.3125 6.890625 25.984375 6.890625 \nQ 35.75 6.890625 40.890625 13.453125 \nQ 46.046875 20.015625 46.78125 33.40625 \nQ 43.953125 29.203125 39.59375 26.953125 \nQ 35.25 24.703125 29.984375 24.703125 \nQ 19.046875 24.703125 12.671875 31.3125 \nQ 6.296875 37.9375 6.296875 49.421875 \nQ 6.296875 60.640625 12.9375 67.421875 \nQ 19.578125 74.21875 30.609375 74.21875 \nQ 43.265625 74.21875 49.921875 64.515625 \nQ 56.59375 54.828125 56.59375 36.375 \nQ 56.59375 19.140625 48.40625 8.859375 \nQ 40.234375 -1.421875 26.421875 -1.421875 \nQ 22.703125 -1.421875 18.890625 -0.6875 \nQ 15.09375 0.046875 10.984375 1.515625 \nz\nM 30.609375 32.421875 \nQ 37.25 32.421875 41.125 36.953125 \nQ 45.015625 41.5 45.015625 49.421875 \nQ 45.015625 57.28125 41.125 61.84375 \nQ 37.25 66.40625 30.609375 66.40625 \nQ 23.96875 66.40625 20.09375 61.84375 \nQ 16.21875 57.28125 16.21875 49.421875 \nQ 16.21875 41.5 20.09375 36.953125 \nQ 23.96875 32.421875 30.609375 32.421875 \nz\n\" id=\"DejaVuSans-57\"/>\n     </defs>\n     <use xlink:href=\"#DejaVuSans-32\"/>\n     <use x=\"31.787109\" xlink:href=\"#DejaVuSans-67\"/>\n     <use x=\"101.611328\" xlink:href=\"#DejaVuSans-108\"/>\n     <use x=\"129.394531\" xlink:href=\"#DejaVuSans-97\"/>\n     <use x=\"190.673828\" xlink:href=\"#DejaVuSans-115\"/>\n     <use x=\"242.773438\" xlink:href=\"#DejaVuSans-115\"/>\n     <use x=\"294.873047\" xlink:href=\"#DejaVuSans-32\"/>\n     <use x=\"326.660156\" xlink:href=\"#DejaVuSans-57\"/>\n     <use x=\"390.283203\" xlink:href=\"#DejaVuSans-46\"/>\n     <use x=\"422.070312\" xlink:href=\"#DejaVuSans-48\"/>\n    </g>\n   </g>\n  </g>\n  <g id=\"axes_4\">\n   <g id=\"patch_17\">\n    <path d=\"M 26.925 163.318125 \nL 75.525 163.318125 \nL 75.525 114.718125 \nL 26.925 114.718125 \nz\n\" style=\"fill:#ffffff;\"/>\n   </g>\n   <g clip-path=\"url(#p1628675450)\">\n    <image height=\"28\" id=\"imagea9943440aa\" style=\"image-rendering:crisp-edges;image-rendering:pixelated\" transform=\"matrix(1.75 0 0 1.75 26.925 114.318125)\" width=\"28\" xlink:href=\"data:image/png;base64,\niVBORw0KGgoAAAANSUhEUgAAABwAAAAcCAYAAAByDd+UAAAE20lEQVR4nKWWu2sUbRTGf3N557LMbhx2s8pusUU2kUCilYiFoCBb2KS3tLGz8h+w1T/AwkIsU1gqQa0k6CIihMRGUDYEdc3uuOte5z5fITMkRhPz5TRzgfd55jnnOeeMBCT8QywtLXHjxg3evn1Lu91GlmXiOOby5ctcv36dq1ev/gsM0mGEFy9eZGFhgaWlJbrdLmfOnOHSpUsoisLu7i6dToeVlRW2t7e5f/8+lmWxublJs9k8HmG9XufWrVtMJhMcx8FxHMbjMbu7uxSLRVZWVtjZ2cGyLFzX5fHjx8zPz1OpVLAsi1KpxNOnT/9I/EfC27dv0263GY/HqKoKgBACgF6vh+M4AORyORzHoVarEccxrusShiGFQoFqtcrq6iqTyWQftvw7WVqLOI4xTRNJkvA8j8FggOM4hGGIYRhYloXv+xSLRQaDQXbeNE1c1+Xz588sLy8fUKj+/qJSqTAcDpFlGV3X+fr1K7lcDoDZ2VkmkwlhGAIQhiFBEDAajRgOh0ynU0zTxDAMPM9jZmbmaEJN0yiVSpw7d46XL19SKBRoNBqYpsnm5iaaplGpVGi1WgghWFxcZGtri2KxiO/7PHv2DM/zCIIARVGOJjx9+jRra2vcu3cPgNXVVd68eYOu64RhSLfb5cWLF8zPz+O6Lu/evSOfz7OxscHi4iJJkhBFEZZlkSQJtm3T6/X+XMNSqZSl6tGjRzQaDa5du4bneaiqmh2sVquMRiOq1SrD4ZCZmRl0XWd9fZ16vc6dO3c4f/48o9EIy7L2Cdrn0kajwdzcHK1Wi9evX9Pv92k2m2xtbSGEYHt7G9u26XQ6uK7LhQsX+PLlS2aeV69esby8TC6X4+HDh5TLZSaTCevr639W+OHDBzqdDrOzs9Trdfr9Pj9//qTZbPLgwQPa7TamaVIoFDh79iy9Xo9yuUyr1eLu3bvs7Ozw5MkT5ubmKJfLBEHAx48f/67w92g0Gty8eZO1tTWCIODTp08Mh0MURcH3fZIkQQiBZVl0u11qtRrv37/fV7Pf44Bp9sbz58+5cuUKtVqNjY0NbNtG0zQURSGKInzfJwgCbNsmDEM0TSOO48MgDzY+gCRJ2X2v18OyLKIoQtM0JElCCIEQAl3XUVWVJPmVpCRJkGX5AMaRhCkAwGAwII5jwjBE13VkWc5AZVlGkiRGoxGGYTCdTv+fwr3h+z79fh/DMDIwSZIyBaqqEgQBQgiiKDo5oSzL+L5PPp/fNz1UVUWW5ew5vY+i6OQKU8AwDFFVNQON4xhZlo8kORZhGIYIIVAUhTiOs2tKGMcxp06dyqZKusb+N6Gu63ieh+/7qKqKpmkEQQD82pGqqmKaZlY/0zRPRpgCpKlNkgRVVVEUJUvzdDrFMAx83z8wO49NmMvlcF032/ypsrQ1AIIgQNd1AAzDyD7s2IRCiGz5pnVMiVPHphnY2yqHxaGTxrZthBD8+PEDz/OysZbuxr2TJ1WVKv1bHDpL0yWagqQ1k2UZIQSSJKFpGkBmmhPVUAiB4zgMBoOs1zzPy/5lUrcGQYDruvi+fzKF9XqdWq3G9+/f9ylKkoR+v08URei6jhCC8XgM/DKNEIIgCJAk6YB5Dt2H+XyehYWFDDiKIlRVzXozdafneURRxGg0Yjwe8+3bt7+K+A/0CGCxlfafHwAAAABJRU5ErkJggg==\"/>\n   </g>\n   <g id=\"matplotlib.axis_7\">\n    <g id=\"xtick_7\">\n     <g id=\"line2d_13\">\n      <g>\n       <use style=\"stroke:#000000;stroke-width:0.8;\" x=\"27.792857\" xlink:href=\"#me425bb8d11\" y=\"163.318125\"/>\n      </g>\n     </g>\n     <g id=\"text_16\">\n      <!-- 0 -->\n      <g transform=\"translate(24.611607 177.916563)scale(0.1 -0.1)\">\n       <use xlink:href=\"#DejaVuSans-48\"/>\n      </g>\n     </g>\n    </g>\n    <g id=\"xtick_8\">\n     <g id=\"line2d_14\">\n      <g>\n       <use style=\"stroke:#000000;stroke-width:0.8;\" x=\"71.185714\" xlink:href=\"#me425bb8d11\" y=\"163.318125\"/>\n      </g>\n     </g>\n     <g id=\"text_17\">\n      <!-- 25 -->\n      <g transform=\"translate(64.823214 177.916563)scale(0.1 -0.1)\">\n       <use xlink:href=\"#DejaVuSans-50\"/>\n       <use x=\"63.623047\" xlink:href=\"#DejaVuSans-53\"/>\n      </g>\n     </g>\n    </g>\n   </g>\n   <g id=\"matplotlib.axis_8\">\n    <g id=\"ytick_7\">\n     <g id=\"line2d_15\">\n      <g>\n       <use style=\"stroke:#000000;stroke-width:0.8;\" x=\"26.925\" xlink:href=\"#mc54a5fa5a7\" y=\"115.585982\"/>\n      </g>\n     </g>\n     <g id=\"text_18\">\n      <!-- 0 -->\n      <g transform=\"translate(13.5625 119.385201)scale(0.1 -0.1)\">\n       <use xlink:href=\"#DejaVuSans-48\"/>\n      </g>\n     </g>\n    </g>\n    <g id=\"ytick_8\">\n     <g id=\"line2d_16\">\n      <g>\n       <use style=\"stroke:#000000;stroke-width:0.8;\" x=\"26.925\" xlink:href=\"#mc54a5fa5a7\" y=\"150.300268\"/>\n      </g>\n     </g>\n     <g id=\"text_19\">\n      <!-- 20 -->\n      <g transform=\"translate(7.2 154.099487)scale(0.1 -0.1)\">\n       <use xlink:href=\"#DejaVuSans-50\"/>\n       <use x=\"63.623047\" xlink:href=\"#DejaVuSans-48\"/>\n      </g>\n     </g>\n    </g>\n   </g>\n   <g id=\"patch_18\">\n    <path d=\"M 26.925 163.318125 \nL 26.925 114.718125 \n\" style=\"fill:none;stroke:#000000;stroke-linecap:square;stroke-linejoin:miter;stroke-width:0.8;\"/>\n   </g>\n   <g id=\"patch_19\">\n    <path d=\"M 75.525 163.318125 \nL 75.525 114.718125 \n\" style=\"fill:none;stroke:#000000;stroke-linecap:square;stroke-linejoin:miter;stroke-width:0.8;\"/>\n   </g>\n   <g id=\"patch_20\">\n    <path d=\"M 26.925 163.318125 \nL 75.525 163.318125 \n\" style=\"fill:none;stroke:#000000;stroke-linecap:square;stroke-linejoin:miter;stroke-width:0.8;\"/>\n   </g>\n   <g id=\"patch_21\">\n    <path d=\"M 26.925 114.718125 \nL 75.525 114.718125 \n\" style=\"fill:none;stroke:#000000;stroke-linecap:square;stroke-linejoin:miter;stroke-width:0.8;\"/>\n   </g>\n   <g id=\"text_20\">\n    <!--  Class 0.0 -->\n    <g transform=\"translate(22.084687 108.718125)scale(0.12 -0.12)\">\n     <use xlink:href=\"#DejaVuSans-32\"/>\n     <use x=\"31.787109\" xlink:href=\"#DejaVuSans-67\"/>\n     <use x=\"101.611328\" xlink:href=\"#DejaVuSans-108\"/>\n     <use x=\"129.394531\" xlink:href=\"#DejaVuSans-97\"/>\n     <use x=\"190.673828\" xlink:href=\"#DejaVuSans-115\"/>\n     <use x=\"242.773438\" xlink:href=\"#DejaVuSans-115\"/>\n     <use x=\"294.873047\" xlink:href=\"#DejaVuSans-32\"/>\n     <use x=\"326.660156\" xlink:href=\"#DejaVuSans-48\"/>\n     <use x=\"390.283203\" xlink:href=\"#DejaVuSans-46\"/>\n     <use x=\"422.070312\" xlink:href=\"#DejaVuSans-48\"/>\n    </g>\n   </g>\n  </g>\n  <g id=\"axes_5\">\n   <g id=\"patch_22\">\n    <path d=\"M 156.092857 163.318125 \nL 204.692857 163.318125 \nL 204.692857 114.718125 \nL 156.092857 114.718125 \nz\n\" style=\"fill:#ffffff;\"/>\n   </g>\n   <g clip-path=\"url(#p959db75b0f)\">\n    <image height=\"28\" id=\"imagec1d408a6cb\" style=\"image-rendering:crisp-edges;image-rendering:pixelated\" transform=\"matrix(1.75 0 0 1.75 156.092857 114.318125)\" width=\"28\" xlink:href=\"data:image/png;base64,\niVBORw0KGgoAAAANSUhEUgAAABwAAAAcCAYAAAByDd+UAAAEGklEQVR4nO2WvWtUSxjGfzNn5mz2mOOyGzHZGHU3okmxCEYb0cJCMVgINlrapLGwshLEwsLK/yDp7AVbK7FKIxgJooL4maMxi1nWZM+cjzlzi+Dxer1cVLgXLvg2p5jh/OZ9nnleRgCO/7Dkfwn7DfwNBKDRaHD9+nWOHDnyQ/sFvxALKSVFUQBw+/Ztjh49yqdPn3j58iWrq6tsbGzw+fNnjDHU63XCMOTq1asYY1A/C/szcHZ2ljNnzvD27VsajQZTU1NIKcnznCRJ8H0fYww7d+5kfX2dGzdu/Bowz3MAjh07xuPHj6nX6+zbtw9rLd1ul6IosNaSJAl5ntPr9bh79y7AzwOFEDjnuHDhAteuXePp06ds376dy5cvs3//fg4ePEiWZcRxTJIkxHFMGIYsLS1tqfOzQOe2LJ+bm2N5eZnFxUW01rTbbVqtFkEQoJQiDEMmJydRSqG1/npgfuDSCCHwfZ8kSUrY/Pw8z549Y3R0lDiO8X0fay39fh8hBFpr8jxHSkmr1WJ4eJjNzc1/llQIUXb1BXbr1i3m5uZYWFhgc3OTTqeDUoqhoSHCMEQphZSSOI7Jsoxer4e1lna7zfLy8veSCiHwPA8pJc65UsJLly5x584dTp8+zcLCAp7nMTk5yWAwII5jrLVYazHGYK1Fyq1fB0FApVLh1KlTXyUVQqCUIsuy77rsdDpcuXKFkydPcu/ePYwxtFotRkZG8DyPer1OEARYa3HOkec5eZ5TFAVFUZDnOWEY8ujRI86dO/f3HmqtOX/+PLOzs0xMTLBjxw7evXtHURQ0Gg2CIMD3/VIRYwxFUaC1xvf9EvolGsPDw2itmZ6e/urh8ePHmZmZodPpsHv3bnzfJ4oilpaWGBsbA6BWq1GpVAAYDAalX9VqFaUUSZJQFAVCiHI4fDlYs9kEQAVBwIMHD+j1emxsbAAQRVE5KYIgoN/v02w2mZiYoFqtUqlUkFIihPimG601Q0NDOOcQQpSepmlKkiQopVAXL14kjmO63S7btm3D8zzGx8dLw6vVagk2xpAkCUmSkKYpRVEwGAzwPA+tNVJK1tfXWVtbKyfOl/AfOnSIZrOJstaya9cuxsbG6Pf7ZFlGmqYYY5BSlpC1tTWMMQCkaVpKNTIyUnYIUK1Wy8FujKFWq1Gr1dBac+LEia2Y3bx5083Pz7sPHz44a61L09Q555wx5ptvmqYuyzJXFIXrdrvOOedevHjhrLXu48ePzjnn3rx545xz5XoURe7hw4dudXXVzczMuG9uqZQSpRTT09Ps3buXlZUVzp49y/3795mamiKKIt6/f49zjlevXjE6OsqTJ0/Ys2cPKysrtNttXr9+zeHDh1lcXOTAgQM8f/6c8fFxoij6msPvwvcv1v/vifEb+Nf6A8X+KZm4dQB6AAAAAElFTkSuQmCC\"/>\n   </g>\n   <g id=\"matplotlib.axis_9\">\n    <g id=\"xtick_9\">\n     <g id=\"line2d_17\">\n      <g>\n       <use style=\"stroke:#000000;stroke-width:0.8;\" x=\"156.960714\" xlink:href=\"#me425bb8d11\" y=\"163.318125\"/>\n      </g>\n     </g>\n     <g id=\"text_21\">\n      <!-- 0 -->\n      <g transform=\"translate(153.779464 177.916563)scale(0.1 -0.1)\">\n       <use xlink:href=\"#DejaVuSans-48\"/>\n      </g>\n     </g>\n    </g>\n    <g id=\"xtick_10\">\n     <g id=\"line2d_18\">\n      <g>\n       <use style=\"stroke:#000000;stroke-width:0.8;\" x=\"200.353571\" xlink:href=\"#me425bb8d11\" y=\"163.318125\"/>\n      </g>\n     </g>\n     <g id=\"text_22\">\n      <!-- 25 -->\n      <g transform=\"translate(193.991071 177.916563)scale(0.1 -0.1)\">\n       <use xlink:href=\"#DejaVuSans-50\"/>\n       <use x=\"63.623047\" xlink:href=\"#DejaVuSans-53\"/>\n      </g>\n     </g>\n    </g>\n   </g>\n   <g id=\"matplotlib.axis_10\">\n    <g id=\"ytick_9\">\n     <g id=\"line2d_19\">\n      <g>\n       <use style=\"stroke:#000000;stroke-width:0.8;\" x=\"156.092857\" xlink:href=\"#mc54a5fa5a7\" y=\"115.585982\"/>\n      </g>\n     </g>\n     <g id=\"text_23\">\n      <!-- 0 -->\n      <g transform=\"translate(142.730357 119.385201)scale(0.1 -0.1)\">\n       <use xlink:href=\"#DejaVuSans-48\"/>\n      </g>\n     </g>\n    </g>\n    <g id=\"ytick_10\">\n     <g id=\"line2d_20\">\n      <g>\n       <use style=\"stroke:#000000;stroke-width:0.8;\" x=\"156.092857\" xlink:href=\"#mc54a5fa5a7\" y=\"150.300268\"/>\n      </g>\n     </g>\n     <g id=\"text_24\">\n      <!-- 20 -->\n      <g transform=\"translate(136.367857 154.099487)scale(0.1 -0.1)\">\n       <use xlink:href=\"#DejaVuSans-50\"/>\n       <use x=\"63.623047\" xlink:href=\"#DejaVuSans-48\"/>\n      </g>\n     </g>\n    </g>\n   </g>\n   <g id=\"patch_23\">\n    <path d=\"M 156.092857 163.318125 \nL 156.092857 114.718125 \n\" style=\"fill:none;stroke:#000000;stroke-linecap:square;stroke-linejoin:miter;stroke-width:0.8;\"/>\n   </g>\n   <g id=\"patch_24\">\n    <path d=\"M 204.692857 163.318125 \nL 204.692857 114.718125 \n\" style=\"fill:none;stroke:#000000;stroke-linecap:square;stroke-linejoin:miter;stroke-width:0.8;\"/>\n   </g>\n   <g id=\"patch_25\">\n    <path d=\"M 156.092857 163.318125 \nL 204.692857 163.318125 \n\" style=\"fill:none;stroke:#000000;stroke-linecap:square;stroke-linejoin:miter;stroke-width:0.8;\"/>\n   </g>\n   <g id=\"patch_26\">\n    <path d=\"M 156.092857 114.718125 \nL 204.692857 114.718125 \n\" style=\"fill:none;stroke:#000000;stroke-linecap:square;stroke-linejoin:miter;stroke-width:0.8;\"/>\n   </g>\n   <g id=\"text_25\">\n    <!--  Class 9.0 -->\n    <g transform=\"translate(151.252545 108.718125)scale(0.12 -0.12)\">\n     <use xlink:href=\"#DejaVuSans-32\"/>\n     <use x=\"31.787109\" xlink:href=\"#DejaVuSans-67\"/>\n     <use x=\"101.611328\" xlink:href=\"#DejaVuSans-108\"/>\n     <use x=\"129.394531\" xlink:href=\"#DejaVuSans-97\"/>\n     <use x=\"190.673828\" xlink:href=\"#DejaVuSans-115\"/>\n     <use x=\"242.773438\" xlink:href=\"#DejaVuSans-115\"/>\n     <use x=\"294.873047\" xlink:href=\"#DejaVuSans-32\"/>\n     <use x=\"326.660156\" xlink:href=\"#DejaVuSans-57\"/>\n     <use x=\"390.283203\" xlink:href=\"#DejaVuSans-46\"/>\n     <use x=\"422.070312\" xlink:href=\"#DejaVuSans-48\"/>\n    </g>\n   </g>\n  </g>\n  <g id=\"axes_6\">\n   <g id=\"patch_27\">\n    <path d=\"M 285.260714 163.318125 \nL 333.860714 163.318125 \nL 333.860714 114.718125 \nL 285.260714 114.718125 \nz\n\" style=\"fill:#ffffff;\"/>\n   </g>\n   <g clip-path=\"url(#pa1855a015e)\">\n    <image height=\"28\" id=\"image03ed4f9bf3\" style=\"image-rendering:crisp-edges;image-rendering:pixelated\" transform=\"matrix(1.75 0 0 1.75 285.260714 114.318125)\" width=\"28\" xlink:href=\"data:image/png;base64,\niVBORw0KGgoAAAANSUhEUgAAABwAAAAcCAYAAAByDd+UAAAEkElEQVR4nK2WvWsUTRzHPzO7O3vs3a2HhcQjHgGLExRiIRaijZhCEKx8KUQr0X/A1kIQOxsL/R8EwUoRFSuxUgwGFNTkLgHvjMLlxE2yOzvzFD47T+K9eA/4heV253a/39/7DIAddgkhBtZu3LhhT548uW3t4MGD9u7du3bv3r1DeYZc48Xq9bq9ffu2/fjxo3379q1dXl62m5ubNkkSa621nU7Hfvr0yXY6HXvr1i0bRdFYo0WhWsD3fbTW1Ot1Hjx4QLlcJggC0jSl1+vheR5xHCOlBGB9fR1jDOVymWq1ytraGm/evOHixYsASCkxxjj+AcECjx8/Zs+ePayuruJ5HmEYApBlGZ7nuV8hBFEUkec5eZ6jtWZ6eppXr15x5syZAV5/mNipU6eYmpri+/fvKKXwPM9dUkryPAcgz3NKpRLVahVjDL1eD2MMS0tL1Ov1YdTIYYtzc3NYa1FKIYTAGIO1luXlZbIsQ2vN1NQUzWaTWq3G/Pw8jx49QmuNUgopJXEcMzc3N5ngoUOHnAjAjh07eP78Od++fWP//v00Gg3m5+e5fPkyp0+f5v79+8zMzFAulzHG4HkeWmsuXLgwWUgbjQZLS0v4vo+1liiKeP36NS9evODhw4c8efIEKSWXLl3i+vXr7Nq1i/X1dZIkQSnl7o8cOfJnD2dnZ+l2uy5fnudhrWV2dpYfP37w9OlTbt68ycLCAteuXSNJEj58+EC32yUIAuI4JssyjDH0+31mZmbGCx4/ftyFxBhDEAT0ej3Onz/Py5cvWVxc5OzZs6ysrPD582eklFQqFWq1GqVSCa01vu9jjEEpxdWrV8eHdN++fYRh6D4qyr3dbvPz508WFhZI05RGo4G1lk6nQxzHrKys0Gw2iaKIUqlEpVIhSRK+fPkyXvDKlSscOHCAc+fOcezYMZrNJt1ul8XFRbTWVKtV3r1755q92+26vEVRxPT0NKurq9y7d487d+6gtd7GP7Lx3QtC0G63abfbRFHkQqa1Js9zrLWEYUi1WqXVanHixIlxdIMeCiEQQgC41ijymSSJs7gYWUIItNbumwJSSqSUAx4OCFprXf8V6Pf7eJ5HnueOSAhBnucopTDGuLUCxphtM9QZMtb/f5EkCUEQuOc8zxFCuFlaCGx9ZxQmElxbW0NKibWWIAhc28CviBRpSNP0j1xDJ83v2NzcdB4VXhUDvAg1QBzHf0ewUqm4/a/IYRiGTkhrjbV2m6AQYqAWYMKQ1mo14Jc3wDai4r4Yg3/CSMGtFRcEgQtp4VVRzVJKtyX93hr/S3AroihyIgBKKbIsc+KFkFLq7wgWxwvANXsYhiil8H3f5ffr16//Ecvh1BMJFgRSSnzfJ8uybScB3/edYaVSCWBkeCcSfP/+Pb7vbztMFWJBELiCCYLAiY80fNQfWyuxCI+1lo2NDbTWbGxsAJCmqdvGlFIu36MwUR8ePnyYXq9HFEXs3LnTnUWDIHAbtO/7dDod+v3+gMFbMXZ7KtqgXq9z9OhR4jhm9+7d1Go1lFIkSUKaprRaLVqtFs+ePXMDe1Tj/wPQIGuc3spELwAAAABJRU5ErkJggg==\"/>\n   </g>\n   <g id=\"matplotlib.axis_11\">\n    <g id=\"xtick_11\">\n     <g id=\"line2d_21\">\n      <g>\n       <use style=\"stroke:#000000;stroke-width:0.8;\" x=\"286.128571\" xlink:href=\"#me425bb8d11\" y=\"163.318125\"/>\n      </g>\n     </g>\n     <g id=\"text_26\">\n      <!-- 0 -->\n      <g transform=\"translate(282.947321 177.916563)scale(0.1 -0.1)\">\n       <use xlink:href=\"#DejaVuSans-48\"/>\n      </g>\n     </g>\n    </g>\n    <g id=\"xtick_12\">\n     <g id=\"line2d_22\">\n      <g>\n       <use style=\"stroke:#000000;stroke-width:0.8;\" x=\"329.521429\" xlink:href=\"#me425bb8d11\" y=\"163.318125\"/>\n      </g>\n     </g>\n     <g id=\"text_27\">\n      <!-- 25 -->\n      <g transform=\"translate(323.158929 177.916563)scale(0.1 -0.1)\">\n       <use xlink:href=\"#DejaVuSans-50\"/>\n       <use x=\"63.623047\" xlink:href=\"#DejaVuSans-53\"/>\n      </g>\n     </g>\n    </g>\n   </g>\n   <g id=\"matplotlib.axis_12\">\n    <g id=\"ytick_11\">\n     <g id=\"line2d_23\">\n      <g>\n       <use style=\"stroke:#000000;stroke-width:0.8;\" x=\"285.260714\" xlink:href=\"#mc54a5fa5a7\" y=\"115.585982\"/>\n      </g>\n     </g>\n     <g id=\"text_28\">\n      <!-- 0 -->\n      <g transform=\"translate(271.898214 119.385201)scale(0.1 -0.1)\">\n       <use xlink:href=\"#DejaVuSans-48\"/>\n      </g>\n     </g>\n    </g>\n    <g id=\"ytick_12\">\n     <g id=\"line2d_24\">\n      <g>\n       <use style=\"stroke:#000000;stroke-width:0.8;\" x=\"285.260714\" xlink:href=\"#mc54a5fa5a7\" y=\"150.300268\"/>\n      </g>\n     </g>\n     <g id=\"text_29\">\n      <!-- 20 -->\n      <g transform=\"translate(265.535714 154.099487)scale(0.1 -0.1)\">\n       <use xlink:href=\"#DejaVuSans-50\"/>\n       <use x=\"63.623047\" xlink:href=\"#DejaVuSans-48\"/>\n      </g>\n     </g>\n    </g>\n   </g>\n   <g id=\"patch_28\">\n    <path d=\"M 285.260714 163.318125 \nL 285.260714 114.718125 \n\" style=\"fill:none;stroke:#000000;stroke-linecap:square;stroke-linejoin:miter;stroke-width:0.8;\"/>\n   </g>\n   <g id=\"patch_29\">\n    <path d=\"M 333.860714 163.318125 \nL 333.860714 114.718125 \n\" style=\"fill:none;stroke:#000000;stroke-linecap:square;stroke-linejoin:miter;stroke-width:0.8;\"/>\n   </g>\n   <g id=\"patch_30\">\n    <path d=\"M 285.260714 163.318125 \nL 333.860714 163.318125 \n\" style=\"fill:none;stroke:#000000;stroke-linecap:square;stroke-linejoin:miter;stroke-width:0.8;\"/>\n   </g>\n   <g id=\"patch_31\">\n    <path d=\"M 285.260714 114.718125 \nL 333.860714 114.718125 \n\" style=\"fill:none;stroke:#000000;stroke-linecap:square;stroke-linejoin:miter;stroke-width:0.8;\"/>\n   </g>\n   <g id=\"text_30\">\n    <!--  Class 0.0 -->\n    <g transform=\"translate(280.420402 108.718125)scale(0.12 -0.12)\">\n     <use xlink:href=\"#DejaVuSans-32\"/>\n     <use x=\"31.787109\" xlink:href=\"#DejaVuSans-67\"/>\n     <use x=\"101.611328\" xlink:href=\"#DejaVuSans-108\"/>\n     <use x=\"129.394531\" xlink:href=\"#DejaVuSans-97\"/>\n     <use x=\"190.673828\" xlink:href=\"#DejaVuSans-115\"/>\n     <use x=\"242.773438\" xlink:href=\"#DejaVuSans-115\"/>\n     <use x=\"294.873047\" xlink:href=\"#DejaVuSans-32\"/>\n     <use x=\"326.660156\" xlink:href=\"#DejaVuSans-48\"/>\n     <use x=\"390.283203\" xlink:href=\"#DejaVuSans-46\"/>\n     <use x=\"422.070312\" xlink:href=\"#DejaVuSans-48\"/>\n    </g>\n   </g>\n  </g>\n  <g id=\"axes_7\">\n   <g id=\"patch_32\">\n    <path d=\"M 26.925 255.718125 \nL 75.525 255.718125 \nL 75.525 207.118125 \nL 26.925 207.118125 \nz\n\" style=\"fill:#ffffff;\"/>\n   </g>\n   <g clip-path=\"url(#p5de8c909e3)\">\n    <image height=\"28\" id=\"image6bd67d12b8\" style=\"image-rendering:crisp-edges;image-rendering:pixelated\" transform=\"matrix(1.75 0 0 1.75 26.925 206.718125)\" width=\"28\" xlink:href=\"data:image/png;base64,\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\"/>\n   </g>\n   <g id=\"matplotlib.axis_13\">\n    <g id=\"xtick_13\">\n     <g id=\"line2d_25\">\n      <g>\n       <use style=\"stroke:#000000;stroke-width:0.8;\" x=\"27.792857\" xlink:href=\"#me425bb8d11\" y=\"255.718125\"/>\n      </g>\n     </g>\n     <g id=\"text_31\">\n      <!-- 0 -->\n      <g transform=\"translate(24.611607 270.316563)scale(0.1 -0.1)\">\n       <use xlink:href=\"#DejaVuSans-48\"/>\n      </g>\n     </g>\n    </g>\n    <g id=\"xtick_14\">\n     <g id=\"line2d_26\">\n      <g>\n       <use style=\"stroke:#000000;stroke-width:0.8;\" x=\"71.185714\" xlink:href=\"#me425bb8d11\" y=\"255.718125\"/>\n      </g>\n     </g>\n     <g id=\"text_32\">\n      <!-- 25 -->\n      <g transform=\"translate(64.823214 270.316563)scale(0.1 -0.1)\">\n       <use xlink:href=\"#DejaVuSans-50\"/>\n       <use x=\"63.623047\" xlink:href=\"#DejaVuSans-53\"/>\n      </g>\n     </g>\n    </g>\n   </g>\n   <g id=\"matplotlib.axis_14\">\n    <g id=\"ytick_13\">\n     <g id=\"line2d_27\">\n      <g>\n       <use style=\"stroke:#000000;stroke-width:0.8;\" x=\"26.925\" xlink:href=\"#mc54a5fa5a7\" y=\"207.985982\"/>\n      </g>\n     </g>\n     <g id=\"text_33\">\n      <!-- 0 -->\n      <g transform=\"translate(13.5625 211.785201)scale(0.1 -0.1)\">\n       <use xlink:href=\"#DejaVuSans-48\"/>\n      </g>\n     </g>\n    </g>\n    <g id=\"ytick_14\">\n     <g id=\"line2d_28\">\n      <g>\n       <use style=\"stroke:#000000;stroke-width:0.8;\" x=\"26.925\" xlink:href=\"#mc54a5fa5a7\" y=\"242.700268\"/>\n      </g>\n     </g>\n     <g id=\"text_34\">\n      <!-- 20 -->\n      <g transform=\"translate(7.2 246.499487)scale(0.1 -0.1)\">\n       <use xlink:href=\"#DejaVuSans-50\"/>\n       <use x=\"63.623047\" xlink:href=\"#DejaVuSans-48\"/>\n      </g>\n     </g>\n    </g>\n   </g>\n   <g id=\"patch_33\">\n    <path d=\"M 26.925 255.718125 \nL 26.925 207.118125 \n\" style=\"fill:none;stroke:#000000;stroke-linecap:square;stroke-linejoin:miter;stroke-width:0.8;\"/>\n   </g>\n   <g id=\"patch_34\">\n    <path d=\"M 75.525 255.718125 \nL 75.525 207.118125 \n\" style=\"fill:none;stroke:#000000;stroke-linecap:square;stroke-linejoin:miter;stroke-width:0.8;\"/>\n   </g>\n   <g id=\"patch_35\">\n    <path d=\"M 26.925 255.718125 \nL 75.525 255.718125 \n\" style=\"fill:none;stroke:#000000;stroke-linecap:square;stroke-linejoin:miter;stroke-width:0.8;\"/>\n   </g>\n   <g id=\"patch_36\">\n    <path d=\"M 26.925 207.118125 \nL 75.525 207.118125 \n\" style=\"fill:none;stroke:#000000;stroke-linecap:square;stroke-linejoin:miter;stroke-width:0.8;\"/>\n   </g>\n   <g id=\"text_35\">\n    <!--  Class 4.0 -->\n    <g transform=\"translate(22.084687 201.118125)scale(0.12 -0.12)\">\n     <defs>\n      <path d=\"M 37.796875 64.3125 \nL 12.890625 25.390625 \nL 37.796875 25.390625 \nz\nM 35.203125 72.90625 \nL 47.609375 72.90625 \nL 47.609375 25.390625 \nL 58.015625 25.390625 \nL 58.015625 17.1875 \nL 47.609375 17.1875 \nL 47.609375 0 \nL 37.796875 0 \nL 37.796875 17.1875 \nL 4.890625 17.1875 \nL 4.890625 26.703125 \nz\n\" id=\"DejaVuSans-52\"/>\n     </defs>\n     <use xlink:href=\"#DejaVuSans-32\"/>\n     <use x=\"31.787109\" xlink:href=\"#DejaVuSans-67\"/>\n     <use x=\"101.611328\" xlink:href=\"#DejaVuSans-108\"/>\n     <use x=\"129.394531\" xlink:href=\"#DejaVuSans-97\"/>\n     <use x=\"190.673828\" xlink:href=\"#DejaVuSans-115\"/>\n     <use x=\"242.773438\" xlink:href=\"#DejaVuSans-115\"/>\n     <use x=\"294.873047\" xlink:href=\"#DejaVuSans-32\"/>\n     <use x=\"326.660156\" xlink:href=\"#DejaVuSans-52\"/>\n     <use x=\"390.283203\" xlink:href=\"#DejaVuSans-46\"/>\n     <use x=\"422.070312\" xlink:href=\"#DejaVuSans-48\"/>\n    </g>\n   </g>\n  </g>\n  <g id=\"axes_8\">\n   <g id=\"patch_37\">\n    <path d=\"M 285.260714 255.718125 \nL 333.860714 255.718125 \nL 333.860714 207.118125 \nL 285.260714 207.118125 \nz\n\" style=\"fill:#ffffff;\"/>\n   </g>\n   <g clip-path=\"url(#p56b8fc02d8)\">\n    <image height=\"28\" id=\"image12f74b7316\" style=\"image-rendering:crisp-edges;image-rendering:pixelated\" transform=\"matrix(1.75 0 0 1.75 285.260714 206.718125)\" width=\"28\" xlink:href=\"data:image/png;base64,\niVBORw0KGgoAAAANSUhEUgAAABwAAAAcCAYAAAByDd+UAAADMklEQVR4nK2WzU7yTBiGr/lrC0JAhRNwoXHhCbjUvQfwbjxPj8EYVxI3Eg1BVKDQlpahZfot+GzybT54A7Nrp72vzDz38yOAki1LSsnZ2Rnz+ZyyLOl0OoRhyHK5xFrLcrncJlEtve0DYwyPj488PDwwm81YrVYsl0uyLCPPc9I05fz8nPv7e66urrDW7ge8ubmhLEuur69RSiGlZDQa0e12qdfrAHieh9aay8tLnp+f/1dPbgPe3d0RxzHr9Zo8z7HW0mq1kFJirSXPc8IwJEkS/vz5s01uO7Ber+P7PgBBEBAEAZ7nbX6WEiklaZrSbrfpdrv7A33fx/M8hBBkWYZzjna7zenpKVpvItLtdimKglartT8wiiKEEEgp0VojhKDRaJBlGcYYfN8nSRLyPK9uYi9gkiTU63WstTSbTXzfJ8syTk5OiKKIJEnwPI8gCEjTdH/gZDKh2WyilGKxWCClpFar4Zyj0WjQbrdZrVb4vs9oNNof+PPzQxAESClpNptcXFzQ6/V4eXmhVquxWCxQStFqtfj6+tofGMcxy+USpRRpmhKGIWVZIqWk0+ngnMMYgxCCyWSyP3AwGFCr1fA8D2MMWmu01hhjiKKIPM+rvSRJ9gf2+32MMSilqkpTliWz2axyL2xycj6f7w8cDof4vo8QAgClFGVZslgsODo6whhTQd/e3vYHwiaOxhgAhBCkaVo59veKAXq93mGA4/G4SmrP84iiiDRNq3daa4qiYL1eHwY4HA7RWuOcQ0pJURRYa5FSIoTAGMP39/cuUrsBPz8/CYKAstz0amstzrlqXynFcDg8HPDj4wOgyj9rbeVc2Di03+8fDvj6+kpZlpVTrbX/edZaMxgMDgd8enqqYvXb/4qi2Aj82xO3dfq/Ak6n08ow8/mcOI6rVABwzvHy8nI44Gw2I89zlFI456r6OR6PUUqRZdlOnQJ2GKJ+gb9TmpSyKnNCCLTWLBaLw8YQIAzDapb5dahzDt/3GY/Hu8rsDpxOpxhjcM6xXq9Zr9dVXMMw3Bm405UClUtXqxW3t7ccHx9TFEU14xwcGMcxRVGwWq14f3+vKksQBH91wn8As+aTy5RSfxsAAAAASUVORK5CYII=\"/>\n   </g>\n   <g id=\"matplotlib.axis_15\">\n    <g id=\"xtick_15\">\n     <g id=\"line2d_29\">\n      <g>\n       <use style=\"stroke:#000000;stroke-width:0.8;\" x=\"286.128571\" xlink:href=\"#me425bb8d11\" y=\"255.718125\"/>\n      </g>\n     </g>\n     <g id=\"text_36\">\n      <!-- 0 -->\n      <g transform=\"translate(282.947321 270.316563)scale(0.1 -0.1)\">\n       <use xlink:href=\"#DejaVuSans-48\"/>\n      </g>\n     </g>\n    </g>\n    <g id=\"xtick_16\">\n     <g id=\"line2d_30\">\n      <g>\n       <use style=\"stroke:#000000;stroke-width:0.8;\" x=\"329.521429\" xlink:href=\"#me425bb8d11\" y=\"255.718125\"/>\n      </g>\n     </g>\n     <g id=\"text_37\">\n      <!-- 25 -->\n      <g transform=\"translate(323.158929 270.316563)scale(0.1 -0.1)\">\n       <use xlink:href=\"#DejaVuSans-50\"/>\n       <use x=\"63.623047\" xlink:href=\"#DejaVuSans-53\"/>\n      </g>\n     </g>\n    </g>\n   </g>\n   <g id=\"matplotlib.axis_16\">\n    <g id=\"ytick_15\">\n     <g id=\"line2d_31\">\n      <g>\n       <use style=\"stroke:#000000;stroke-width:0.8;\" x=\"285.260714\" xlink:href=\"#mc54a5fa5a7\" y=\"207.985982\"/>\n      </g>\n     </g>\n     <g id=\"text_38\">\n      <!-- 0 -->\n      <g transform=\"translate(271.898214 211.785201)scale(0.1 -0.1)\">\n       <use xlink:href=\"#DejaVuSans-48\"/>\n      </g>\n     </g>\n    </g>\n    <g id=\"ytick_16\">\n     <g id=\"line2d_32\">\n      <g>\n       <use style=\"stroke:#000000;stroke-width:0.8;\" x=\"285.260714\" xlink:href=\"#mc54a5fa5a7\" y=\"242.700268\"/>\n      </g>\n     </g>\n     <g id=\"text_39\">\n      <!-- 20 -->\n      <g transform=\"translate(265.535714 246.499487)scale(0.1 -0.1)\">\n       <use xlink:href=\"#DejaVuSans-50\"/>\n       <use x=\"63.623047\" xlink:href=\"#DejaVuSans-48\"/>\n      </g>\n     </g>\n    </g>\n   </g>\n   <g id=\"patch_38\">\n    <path d=\"M 285.260714 255.718125 \nL 285.260714 207.118125 \n\" style=\"fill:none;stroke:#000000;stroke-linecap:square;stroke-linejoin:miter;stroke-width:0.8;\"/>\n   </g>\n   <g id=\"patch_39\">\n    <path d=\"M 333.860714 255.718125 \nL 333.860714 207.118125 \n\" style=\"fill:none;stroke:#000000;stroke-linecap:square;stroke-linejoin:miter;stroke-width:0.8;\"/>\n   </g>\n   <g id=\"patch_40\">\n    <path d=\"M 285.260714 255.718125 \nL 333.860714 255.718125 \n\" style=\"fill:none;stroke:#000000;stroke-linecap:square;stroke-linejoin:miter;stroke-width:0.8;\"/>\n   </g>\n   <g id=\"patch_41\">\n    <path d=\"M 285.260714 207.118125 \nL 333.860714 207.118125 \n\" style=\"fill:none;stroke:#000000;stroke-linecap:square;stroke-linejoin:miter;stroke-width:0.8;\"/>\n   </g>\n   <g id=\"text_40\">\n    <!--  Class 1.0 -->\n    <g transform=\"translate(280.420402 201.118125)scale(0.12 -0.12)\">\n     <defs>\n      <path d=\"M 12.40625 8.296875 \nL 28.515625 8.296875 \nL 28.515625 63.921875 \nL 10.984375 60.40625 \nL 10.984375 69.390625 \nL 28.421875 72.90625 \nL 38.28125 72.90625 \nL 38.28125 8.296875 \nL 54.390625 8.296875 \nL 54.390625 0 \nL 12.40625 0 \nz\n\" id=\"DejaVuSans-49\"/>\n     </defs>\n     <use xlink:href=\"#DejaVuSans-32\"/>\n     <use x=\"31.787109\" xlink:href=\"#DejaVuSans-67\"/>\n     <use x=\"101.611328\" xlink:href=\"#DejaVuSans-108\"/>\n     <use x=\"129.394531\" xlink:href=\"#DejaVuSans-97\"/>\n     <use x=\"190.673828\" xlink:href=\"#DejaVuSans-115\"/>\n     <use x=\"242.773438\" xlink:href=\"#DejaVuSans-115\"/>\n     <use x=\"294.873047\" xlink:href=\"#DejaVuSans-32\"/>\n     <use x=\"326.660156\" xlink:href=\"#DejaVuSans-49\"/>\n     <use x=\"390.283203\" xlink:href=\"#DejaVuSans-46\"/>\n     <use x=\"422.070312\" xlink:href=\"#DejaVuSans-48\"/>\n    </g>\n   </g>\n  </g>\n </g>\n <defs>\n  <clipPath id=\"p9c54c088c3\">\n   <rect height=\"48.6\" width=\"48.6\" x=\"26.925\" y=\"22.318125\"/>\n  </clipPath>\n  <clipPath id=\"p912c2fdaf5\">\n   <rect height=\"48.6\" width=\"48.6\" x=\"156.092857\" y=\"22.318125\"/>\n  </clipPath>\n  <clipPath id=\"p92d11f6c47\">\n   <rect height=\"48.6\" width=\"48.6\" x=\"285.260714\" y=\"22.318125\"/>\n  </clipPath>\n  <clipPath id=\"p1628675450\">\n   <rect height=\"48.6\" width=\"48.6\" x=\"26.925\" y=\"114.718125\"/>\n  </clipPath>\n  <clipPath id=\"p959db75b0f\">\n   <rect height=\"48.6\" width=\"48.6\" x=\"156.092857\" y=\"114.718125\"/>\n  </clipPath>\n  <clipPath id=\"pa1855a015e\">\n   <rect height=\"48.6\" width=\"48.6\" x=\"285.260714\" y=\"114.718125\"/>\n  </clipPath>\n  <clipPath id=\"p5de8c909e3\">\n   <rect height=\"48.6\" width=\"48.6\" x=\"26.925\" y=\"207.118125\"/>\n  </clipPath>\n  <clipPath id=\"p56b8fc02d8\">\n   <rect height=\"48.6\" width=\"48.6\" x=\"285.260714\" y=\"207.118125\"/>\n  </clipPath>\n </defs>\n</svg>\n",
      "image/png": "[encoded data removed]"
     },
     "metadata": {
      "needs_background": "light"
     }
    }
   ],
   "source": [
    "# random check with nine training examples\n",
    "np.random.seed(2);\n",
    "indices = list(np.random.randint(m_train,size=9))\n",
    "for i in range(9):\n",
    "    plt.subplot(3,3,i+1)\n",
    "    plt.imshow(train_data[indices[i]].reshape(28,28), cmap='gray', interpolation='none')\n",
    "    plt.title(\" Class {}\".format(train_label[indices[i]]))\n",
    "    plt.tight_layout()"
   ]
  },
  {
   "cell_type": "code",
   "execution_count": 10,
   "metadata": {},
   "outputs": [
    {
     "output_type": "stream",
     "name": "stdout",
     "text": [
      "Feature Values: \nFrom 0.0 to 255.0\nData type: float64\n\nLabel Values: \n{0.0, 1.0, 2.0, 3.0, 4.0, 5.0, 6.0, 7.0, 8.0, 9.0}\nData type: float64\n"
     ]
    }
   ],
   "source": [
    "print(\"Feature Values: \\nFrom \" + str(np.min(train_data)) + \" to \" + str(np.max(train_data)))\n",
    "print(\"Data type: \" + str(train_data.dtype))\n",
    "print(\"\\nLabel Values: \")\n",
    "print(set(list(train_label)))\n",
    "print(\"Data type: \" + str(train_label.dtype))"
   ]
  },
  {
   "cell_type": "code",
   "execution_count": 11,
   "metadata": {},
   "outputs": [],
   "source": [
    "train_data = train_data / 255"
   ]
  },
  {
   "cell_type": "code",
   "execution_count": 12,
   "metadata": {},
   "outputs": [
    {
     "output_type": "stream",
     "name": "stdout",
     "text": [
      "Feature Values: \nFrom 0.0 to 1.0\nData type: float64\n\nLabel Values: \n{0.0, 1.0, 2.0, 3.0, 4.0, 5.0, 6.0, 7.0, 8.0, 9.0}\nData type: float64\n"
     ]
    }
   ],
   "source": [
    "print(\"Feature Values: \\nFrom \" + str(np.min(train_data)) + \" to \" + str(np.max(train_data)))\n",
    "print(\"Data type: \" + str(train_data.dtype))\n",
    "print(\"\\nLabel Values: \")\n",
    "print(set(list(train_label)))\n",
    "print(\"Data type: \" + str(train_label.dtype))"
   ]
  },
  {
   "cell_type": "code",
   "execution_count": 13,
   "metadata": {},
   "outputs": [],
   "source": [
    "LABELS = {\n",
    "    0: \"T-shirt/top\",\n",
    "    1: \"Trouser\",\n",
    "    2: \"Pullover\",\n",
    "    3: \"Dress\",\n",
    "    4: \"Coat\",\n",
    "    5: \"Sandal\",\n",
    "    6: \"Shirt\",\n",
    "    7: \"Sneaker\",\n",
    "    8: \"Bag\",\n",
    "    9: \"Ankle boot\", }"
   ]
  },
  {
   "cell_type": "markdown",
   "metadata": {},
   "source": [
    "# Dataloader"
   ]
  },
  {
   "source": [
    "### Now we have to load the dataset and preprocess it. We have done normalization by dividing all images by 255, and make it such that all images have values between 0 and 1, since this removes some of the numerical stability issues with activation functions later on. We choose to go with one-hot encoded labels, since we can more easily subtract these labels from the output of the neural network."
   ],
   "cell_type": "markdown",
   "metadata": {}
  },
  {
   "cell_type": "code",
   "execution_count": 14,
   "metadata": {},
   "outputs": [],
   "source": [
    "class Dataloader:\n",
    "    \n",
    "    def __init__(self, data, labels, n_classes, batch_size=None, shuffle=False):\n",
    "\n",
    "        assert len(data)==len(labels)\n",
    "        self.__n_classes = n_classes\n",
    "        self.__batch_size = batch_size\n",
    "        self.__shuffle = shuffle\n",
    "        self.__data = data\n",
    "        self.__onehot_labels = self.__onehot(labels, self.__n_classes)\n",
    "    \n",
    "    def __onehot(self, labels, n_classes):\n",
    "        onehot_vectors = np.eye(n_classes)[np.array(labels).reshape(-1)]\n",
    "        return onehot_vectors.reshape(list(labels.shape)+[n_classes])     \n",
    "    \n",
    "    def get_onehot(self):\n",
    "        return self.__onehot_labels\n",
    "\n",
    "\n",
    "    def __shuffle_dataset(self):\n",
    "        # Implemet\n",
    "        pass\n",
    "\n",
    "    def __iter__(self):\n",
    "        \n",
    "        if self.__shuffle:\n",
    "            self.__shuffle_dataset()\n",
    "            \n",
    "        if self.__batch_size==None:\n",
    "            yield (np.matrix(self.__data), np.matrix(self.__onehot_labels))\n",
    "            return\n",
    "            \n",
    "        for idx in range(0, len(self.__data), self.__batch_size):\n",
    "            yield (np.matrix(self.__data[idx:idx+self.__batch_size]), \n",
    "                   np.matrix(self.__onehot_labels[idx:idx+self.__batch_size]))"
   ]
  },
  {
   "cell_type": "code",
   "execution_count": 15,
   "metadata": {},
   "outputs": [
    {
     "output_type": "stream",
     "name": "stdout",
     "text": [
      "[9 0 0 ... 3 0 5]\n"
     ]
    }
   ],
   "source": [
    "int_array_of_train_label = train_label.astype(int)\n",
    "print(int_array_of_train_label)"
   ]
  },
  {
   "cell_type": "code",
   "execution_count": 17,
   "metadata": {},
   "outputs": [
    {
     "output_type": "stream",
     "name": "stdout",
     "text": [
      "[9 2 1 ... 8 1 5]\n"
     ]
    }
   ],
   "source": [
    "int_array_of_test_label = test_label.astype(int)\n",
    "print(int_array_of_test_label)"
   ]
  },
  {
   "cell_type": "code",
   "execution_count": 18,
   "metadata": {},
   "outputs": [],
   "source": [
    "dataloader = Dataloader(train_data , int_array_of_train_label , 10 )"
   ]
  },
  {
   "cell_type": "code",
   "execution_count": 19,
   "metadata": {},
   "outputs": [
    {
     "output_type": "execute_result",
     "data": {
      "text/plain": [
       "array([[0., 0., 0., ..., 0., 0., 1.],\n",
       "       [1., 0., 0., ..., 0., 0., 0.],\n",
       "       [1., 0., 0., ..., 0., 0., 0.],\n",
       "       ...,\n",
       "       [0., 0., 0., ..., 0., 0., 0.],\n",
       "       [1., 0., 0., ..., 0., 0., 0.],\n",
       "       [0., 0., 0., ..., 0., 0., 0.]])"
      ]
     },
     "metadata": {},
     "execution_count": 19
    }
   ],
   "source": [
    "dataloader.get_onehot()"
   ]
  },
  {
   "source": [
    "### Neurons make up an Artificial Neural Network and a Neuron can be visualized as something that is holding a number which comes from the ending branches (Synapses) supplied at that Neuron, what happens is for a Layer of Neural Network we multiply the input to the Neuron with the weight held by that synapse and sum all of those up. ###"
   ],
   "cell_type": "markdown",
   "metadata": {}
  },
  {
   "source": [
    "### For example , if the weights are w1, w2, w3 …. wN and inputs being i1, i2, i3 …. iN we get a summation of : w1*i1 + w2*i2 + w3*i3 …. wN*iN ###"
   ],
   "cell_type": "markdown",
   "metadata": {}
  },
  {
   "source": [
    "<img src=\"./images/activation.png\" />"
   ],
   "cell_type": "markdown",
   "metadata": {}
  },
  {
   "source": [
    "### For several layers of Neural Networks and Connections we can have varied values of wX and iX and the summation S which varies according to whether the particular Neuron is activated or not, so to normalize this and prevent drastically different range of values, we use what is called a Activation Function for Neural networks that turns these values into something equivalent between 0,1 or -1,1 to make the whole process statistically balanced. ###"
   ],
   "cell_type": "markdown",
   "metadata": {}
  },
  {
   "source": [
    "### The purpose of the activation function is to introduce non-linearity into the output of a neuron."
   ],
   "cell_type": "markdown",
   "metadata": {}
  },
  {
   "source": [
    "### A neural network without an activation function is essentially just a linear regression model. The activation function does the non-linear transformation to the input making it capable to learn and perform more complex tasks."
   ],
   "cell_type": "markdown",
   "metadata": {}
  },
  {
   "source": [
    "### The Activation Functions can be basically divided into 2 types:\n",
    "<ul>\n",
    "      <li> Linear Activation Function \n",
    "      <li> Non-linear Activation Functions \n",
    "<ul/>"
   ],
   "cell_type": "markdown",
   "metadata": {}
  },
  {
   "source": [
    "### When the activation function is non-linear, then a two-layer neural network can be proven to be a universal function approximator. The identity activation function does not satisfy this property. When multiple layers use the identity activation function, the entire network is equivalent to a single-layer model. "
   ],
   "cell_type": "markdown",
   "metadata": {}
  },
  {
   "source": [
    "### When the range of the activation function is finite, gradient-based training methods tend to be more stable, because pattern presentations significantly affect only limited weights. When the range is infinite, training is generally more efficient because pattern presentations significantly affect most of the weights. In the latter case, smaller learning rates are typically necessary."
   ],
   "cell_type": "markdown",
   "metadata": {}
  },
  {
   "source": [
    "### Continuously differentiable — This property is desirable (ReLU is not continuously differentiable and has some issues with gradient-based optimization, but it is still possible) for enabling gradient-based optimization methods. The binary step activation function is not differentiable at 0, and it differentiates to 0 for all other values, so gradient-based methods can make no progress with it."
   ],
   "cell_type": "markdown",
   "metadata": {}
  },
  {
   "source": [
    "### Derivative or Differential or Slope: Change in y-axis according to change in x-axis."
   ],
   "cell_type": "markdown",
   "metadata": {}
  },
  {
   "source": [
    "### Monotonic — When the activation function is monotonic, the error surface associated with a single-layer model is guaranteed to be convex."
   ],
   "cell_type": "markdown",
   "metadata": {}
  },
  {
   "source": [
    "### Monotonic function: A function which is either entirely non-increasing or non-decreasing."
   ],
   "cell_type": "markdown",
   "metadata": {}
  },
  {
   "source": [
    "### Approximates identity near the origin — When activation functions have this property, the neural network will learn efficiently when its weights are initialized with small random values. When the activation function does not approximate identity near the origin, special care must be used when initializing the weights."
   ],
   "cell_type": "markdown",
   "metadata": {}
  },
  {
   "source": [
    "## Sigmoid or Logistic Activation Function\n",
    "The Sigmoid Function curve looks like a S-shape."
   ],
   "cell_type": "markdown",
   "metadata": {}
  },
  {
   "source": [
    "<img src=\"./images/sigmoid.png\" />"
   ],
   "cell_type": "markdown",
   "metadata": {}
  },
  {
   "source": [
    "### The main reason why we use sigmoid function is because it exists between (0 to 1). Therefore, it is especially used for models where we have to predict the probability as an output.Since probability of anything exists only between the range of 0 and 1, sigmoid is the right choice.\n",
    "### The function is differentiable.That means, we can find the slope of the sigmoid curve at any two points.\n",
    "### The function is monotonic but function’s derivative is not.\n",
    "### The logistic sigmoid function can cause a neural network to get stuck at the training time.\n",
    "### The softmax function is a more generalized logistic activation function which is used for multiclass classification."
   ],
   "cell_type": "markdown",
   "metadata": {}
  },
  {
   "source": [
    "## Tanh or hyperbolic tangent Activation Function"
   ],
   "cell_type": "markdown",
   "metadata": {}
  },
  {
   "source": [
    "<img src=\"./images/tanh.jpeg\" />"
   ],
   "cell_type": "markdown",
   "metadata": {}
  },
  {
   "source": [
    "### tanh is also like logistic sigmoid but better. The range of the tanh function is from (-1 to 1). tanh is also sigmoidal (s - shaped).\n",
    "### The advantage is that the negative inputs will be mapped strongly negative and the zero inputs will be mapped near zero in the tanh graph.\n",
    "### The function is differentiable.\n",
    "### The function is monotonic while its derivative is not monotonic.\n",
    "### The tanh function is mainly used classification between two classes.\n",
    "### Both tanh and logistic sigmoid activation functions are used in feed-forward nets."
   ],
   "cell_type": "markdown",
   "metadata": {}
  },
  {
   "source": [
    "## ReLU (Rectified Linear Unit) Activation Function"
   ],
   "cell_type": "markdown",
   "metadata": {}
  },
  {
   "source": [
    "<img src=\"./images/relu.png\" />"
   ],
   "cell_type": "markdown",
   "metadata": {}
  },
  {
   "source": [
    "### the ReLU is half rectified (from bottom). f(z) is zero when z is less than zero and f(z) is equal to z when z is above or equal to zero.\n",
    "### Range: [ 0 to infinity)\n",
    "### The function and its derivative both are monotonic.\n",
    "### But the issue is that all the negative values become zero immediately which decreases the ability of the model to fit or train from the data properly. That means any negative input given to the ReLU activation function turns the value into zero immediately in the graph, which in turns affects the resulting graph by not mapping the negative values appropriately."
   ],
   "cell_type": "markdown",
   "metadata": {}
  },
  {
   "source": [
    " ## Leaky ReLU"
   ],
   "cell_type": "markdown",
   "metadata": {}
  },
  {
   "source": [
    "<img src=\"./images/leaky-relu.jpeg\" />"
   ],
   "cell_type": "markdown",
   "metadata": {}
  },
  {
   "source": [
    "### It is an attempt to solve the dying ReLU problem\n",
    "### The leak helps to increase the range of the ReLU function. Usually, the value of a is 0.01 or so.\n",
    "### When a is not 0.01 then it is called Randomized ReLU.\n",
    "### Therefore the range of the Leaky ReLU is (-infinity to infinity).\n",
    "### Both Leaky and Randomized ReLU functions are monotonic in nature. Also, their derivatives also monotonic in nature."
   ],
   "cell_type": "markdown",
   "metadata": {}
  },
  {
   "source": [
    "### Why derivative/differentiation is used ?\n",
    "### When updating the curve, to know in which direction and how much to change or update the curve depending upon the slope.That is why we use differentiation in almost every part of Machine Learning and Deep Learning."
   ],
   "cell_type": "markdown",
   "metadata": {}
  },
  {
   "source": [
    "-------------------------------------------------------------------------------------------------------------------------------------------------------------------"
   ],
   "cell_type": "markdown",
   "metadata": {}
  },
  {
   "cell_type": "markdown",
   "metadata": {},
   "source": [
    "# Activation Functions"
   ]
  },
  {
   "cell_type": "code",
   "execution_count": 20,
   "metadata": {},
   "outputs": [],
   "source": [
    "class Identical:\n",
    "    \n",
    "    def __init__(self): pass\n",
    "    \n",
    "    def __val(self, matrix):\n",
    "        identical_value = np.matrix(matrix, dtype=float)\n",
    "        return identical_value\n",
    "\n",
    "    def derivative(self, matrix):\n",
    "        temp = np.matrix(matrix, dtype=float)\n",
    "        identical_derivative = np.matrix(np.full(np.shape(temp), 1.))\n",
    "        return identical_derivative\n",
    "    \n",
    "    def __call__(self, matrix):\n",
    "        return self.__val(matrix)\n",
    "    \n",
    "\n",
    "class Relu:\n",
    "    \n",
    "    def __init__(self): pass\n",
    "    \n",
    "    def __relu(self, matrix):\n",
    "        relu_value = np.maximum(0,matrix)\n",
    "        return relu_value\n",
    "\n",
    "    def derivative(self, matrix):\n",
    "        relu_derivative = np.matrix(matrix, dtype=float)\n",
    "        relu_derivative[relu_derivative<=0] = 0\n",
    "        relu_derivative[relu_derivative>0] = 1\n",
    "        return relu_derivative\n",
    "    \n",
    "    def __call__(self, matrix):\n",
    "        return self.__relu(matrix)\n",
    "\n",
    "    \n",
    "class LeakyRelu:\n",
    "    \n",
    "    def __init__(self, negative_slope=0.01):\n",
    "        self.negative_slope = 0.01\n",
    "    \n",
    "    def __val(self, matrix):\n",
    "        # first approach                           \n",
    "        # leaky_way = np.where(matrix > 0, matrix, matrix * 0.01)                          \n",
    "\n",
    "        # second approach                                                                   \n",
    "        y1 = ((matrix > 0) * matrix)                                                 \n",
    "        y2 = ((matrix <= 0) * matrix * 0.01)                                         \n",
    "        leacky_relu_value = y1 + y2  \n",
    "        return leacky_relu_value\n",
    "\n",
    "    def derivative(self, matrix):\n",
    "        leacky_relu_derivative = np.ones_like(matrix)\n",
    "        leacky_relu_derivative[matrix < 0] = alpha\n",
    "        return leacky_relu_derivative\n",
    "    \n",
    "    def __call__(self, matrix):\n",
    "        return self.__val(matrix)\n",
    "\n",
    "    \n",
    "class Sigmoid:\n",
    "    \n",
    "    def __init__(self): pass\n",
    "\n",
    "    def __val(self, matrix):\n",
    "        sigmoid_value = 1/(1+np.exp(-matrix))\n",
    "        return sigmoid_value\n",
    "\n",
    "    def derivative(self, matrix):\n",
    "        sigmoid_value = self.__val(self, matrix)\n",
    "        sigmoid_derivative = sigmoid_value * (1 - sigmoid_value)\n",
    "        return sigmoid_derivative\n",
    "    \n",
    "    def __call__(self, matrix):\n",
    "        return self.__val(matrix)\n",
    "\n",
    "\n",
    "class Softmax:\n",
    "    \n",
    "    def __init__(self): pass\n",
    "\n",
    "    def __val(self, matrix):\n",
    "        expo = np.exp(matrix-np.max(matrix))\n",
    "        expo_sum = np.sum(expo)\n",
    "        softmax_value = expo/expo_sum\n",
    "        return softmax_value\n",
    "\n",
    "    def derivative(self, matrix):\n",
    "        S = self.__val(matrix)\n",
    "        S_vector = S.reshape(S.shape[0],1)\n",
    "        S_matrix = np.tile(S_vector,S.shape[0])\n",
    "        softmax_derivative = np.diag(S) - (S_matrix * np.transpose(S_matrix))\n",
    "\n",
    "        return softmax_derivative\n",
    "    \n",
    "    def __call__(self, matrix):\n",
    "        return self.__val(matrix)"
   ]
  },
  {
   "cell_type": "markdown",
   "metadata": {},
   "source": [
    "# Loss Function"
   ]
  },
  {
   "cell_type": "code",
   "execution_count": 21,
   "metadata": {},
   "outputs": [],
   "source": [
    "class CrossEntropy: #(with softmax)\n",
    "    \n",
    "    def __init__(self): pass\n",
    "\n",
    "    def __val(self, true_val, expected_val):\n",
    "        assert np.shape(true_val)==np.shape(expected_val)\n",
    "\n",
    "        \"\"\"\n",
    "        X is the output from fully connected layer (num_examples x num_classes)\n",
    "        y is labels (num_examples x 1)\n",
    "            Note that y is not one-hot encoded vector. \n",
    "            It can be computed as y.argmax(axis=1) from one-hot encoded vectors of labels if required.\n",
    "        \"\"\"\n",
    "        m = expected_val.argmax(axis=1).shape[0]\n",
    "        p = Softmax().__cal__(true_val)     # We use multidimensional array indexing to extract \n",
    "        \n",
    "        log_likelihood = -np.log(p[range(m),expected_val.argmax(axis=1)])\n",
    "        cross_entropy_value = np.sum(log_likelihood) / m\n",
    "\n",
    "        return cross_entropy_value\n",
    "        \n",
    "    def derivative(self, true_val, expected_val):\n",
    "        #print(np.shape(true_val))\n",
    "        #print(np.shape(expected_val))\n",
    "        assert np.shape(true_val)==np.shape(expected_val)\n",
    "\n",
    "        \"\"\"\n",
    "        X is the output from fully connected layer (num_examples x num_classes)\n",
    "        y is labels (num_examples x 1)\n",
    "            Note that y is not one-hot encoded vector. \n",
    "            It can be computed as y.argmax(axis=1) from one-hot encoded vectors of labels if required.\n",
    "        \"\"\"\n",
    "        m = expected_val.argmax(axis=1).shape[0]\n",
    "        grad = Softmax()(true_val)\n",
    "        grad[range(m),expected_val.argmax(axis=1)] -= 1\n",
    "        cross_entropy_derivative = grad/m\n",
    "\n",
    "        return cross_entropy_derivative\n",
    "    \n",
    "    def __call__(self, true_val, expected_val):\n",
    "        return self.__val(true_val, expected_val)"
   ]
  },
  {
   "source": [
    "\n",
    "Initializing the weight matrices:\n",
    "One of the important choices which have to be made before training a neural network consists in initializing the weight matrices. We don't know anything about the possible weights, when we start. So, we could start with arbitrary values?"
   ],
   "cell_type": "markdown",
   "metadata": {}
  },
  {
   "source": [
    "We can easily see that it would not be a good idea to set all the weight values to 0, because in this case the result will always be zero. This means that our network will be incapable of learning. This is the worst choice, but initializing a weight matrix to ones is also a bad choice.\n",
    "\n",
    "The values for the weight matrices should be chosen randomly and not arbitrarily. By choosing a random normal distribution we have broken possible symmetric situations, which can and often are bad for the learning process.\n",
    "\n",
    "There are various ways to initialize the weight matrices randomly. one of them is the unity function from numpy.random. It creates samples which are uniformly distributed over the half-open interval [low, high), which means that low is included and high is excluded. Each value within the given interval is equally likely to be drawn by 'uniform'."
   ],
   "cell_type": "markdown",
   "metadata": {}
  },
  {
   "cell_type": "markdown",
   "metadata": {},
   "source": [
    "# Layer"
   ]
  },
  {
   "cell_type": "code",
   "execution_count": 22,
   "metadata": {},
   "outputs": [],
   "source": [
    "import math\n",
    "\n",
    "class Layer:\n",
    "\n",
    "    DEFAULT_LOW, DEFAULT_HIGH, DEFAULT_MEAN, DEFAULT_VAR = 0, 0.05, 0., 1.\n",
    "  \n",
    "    def __init__(self, input_size, output_size, \n",
    "                 activation=Identical(), initial_weight='uniform', **initializing_parameters):\n",
    "        \n",
    "        assert type(initial_weight)==str, 'Undefined activation function!'\n",
    "        self.__weight_initializer_dict = {'uniform':self.__uniform_weight, 'normal':self.__normal_weight}\n",
    "        assert initial_weight in self.__weight_initializer_dict, 'Undefined weight initialization function!'\n",
    "        \n",
    "        \n",
    "        self.__n_neurons = output_size\n",
    "        weight_initializer = self.__weight_initializer_dict[initial_weight]\n",
    "        self.__weight = weight_initializer(input_size, self.__n_neurons, **initializing_parameters)\n",
    "        self.__bias = weight_initializer(1, self.__n_neurons, **initializing_parameters)\n",
    "        self.__activation = activation\n",
    "        \n",
    "        self.__last_input = None\n",
    "        self.__last_activation_input = None\n",
    "        self.__last_activation_output = None\n",
    "        self.__last_activation_derivative = None\n",
    "        \n",
    "    def forward(self, layer_input):\n",
    "        assert np.ndim(layer_input)==2\n",
    "        #print(np.size(self.__weight, 0))\n",
    "        #print(np.size(layer_input,1))\n",
    "        assert np.size(self.__weight,0) == np.size(layer_input,1)\n",
    "\n",
    "        self.__last_input = layer_input\n",
    "        self.__last_activation_input = np.dot(layer_input, self.__weight)+self.__bias\n",
    "        self.__last_activation_output = self.__activation(self.__last_activation_input)\n",
    "        self.__last_activation_derivative = self.__activation.derivative(self.__last_activation_input)\n",
    "\n",
    "        return self.__last_activation_output\n",
    "    \n",
    "    def update_weights(self, backprop_tensor, lr):\n",
    "        assert np.ndim(backprop_tensor)==2\n",
    "        assert np.size(backprop_tensor,0) == np.size(self.__last_activation_derivative,0)\n",
    "        assert np.size(backprop_tensor,1) == self.__n_neurons\n",
    "\n",
    "        self.__weight = self.__weight - lr * np.matmul(np.transpose(self.__last_input), np.multiply(backprop_tensor, self.__last_activation_derivative))\n",
    "        self._bias = self.bias - lr *  np.matmul(np.transpose(np.ones(self.__last_input.shape)), np.multiply(backprop_tensor, self.__last_activation_derivative))\n",
    "        backprop_tensor = np.matmul(np.multiply(backprop_tensor, self.__last_activation_derivative), np.transpose(self.__weight))\n",
    "\n",
    "        return backprop_tensor\n",
    "\n",
    "    def __uniform_weight(self, dim1, dim2, **initializing_parameters):\n",
    "        low, high = self.DEFAULT_LOW, self.DEFAULT_HIGH\n",
    "        if 'low' in initializing_parameters.keys(): low = initializing_parameters['low']\n",
    "        if 'high' in initializing_parameters.keys(): high = initializing_parameters['high']\n",
    "        #print(dim1)\n",
    "        #print(dim2)\n",
    "        weights = np.random.uniform(low, high, (dim1, dim2))\n",
    "        return weights\n",
    "\n",
    "    def __normal_weight(self, dim1, dim2, **initializing_parameters):\n",
    "        mean, var = self.DEFAULT_MEAN, self.DEFAULT_VAR\n",
    "        if 'mean' in initializing_parameters.keys(): mean = initializing_parameters['mean']\n",
    "        if 'var' in initializing_parameters.keys(): var = initializing_parameters['var']\n",
    "        weights = np.random.normal(mean, math.sqrt(var), (dim1, dim2))\n",
    "        return weights\n",
    "    \n",
    "    @property\n",
    "    def n_neurons(self): return self.__n_neurons\n",
    "    \n",
    "    @property\n",
    "    def weight(self): return self.__weight\n",
    "    \n",
    "    @property\n",
    "    def bias(self): return self.__bias\n",
    "    \n",
    "    @property\n",
    "    def activation(self): return self.__activation"
   ]
  },
  {
   "source": [
    "# Feed Forward Neural Network"
   ],
   "cell_type": "markdown",
   "metadata": {}
  },
  {
   "cell_type": "code",
   "execution_count": 25,
   "metadata": {},
   "outputs": [],
   "source": [
    "class FeedForwardNN:\n",
    "\n",
    "    def __init__(self, input_shape):\n",
    "\n",
    "        self.__input_shape = input_shape\n",
    "        self.__output_shape = None\n",
    "\n",
    "        self.__layers_list = []\n",
    "\n",
    "        self.__lr = None\n",
    "        self.__loss = None\n",
    "\n",
    "\n",
    "    def add_layer(self, n_neurons, activation=Relu(), initial_weight='uniform', **initializing_parameters):\n",
    "\n",
    "        assert type(n_neurons)==int, \"Invalid number of neurons for the layer!\"\n",
    "        assert n_neurons>0, \"Invalid number of neurons for the layer!\"\n",
    "\n",
    "        n_prev_neurons = self.__input_shape if len(self.__layers_list)==0 else self.__layers_list[-1].n_neurons\n",
    "        new_layer = Layer(n_prev_neurons, n_neurons, activation, initial_weight, **initializing_parameters)\n",
    "        self.__layers_list.append(new_layer)\n",
    "        self.__output_shape = self.__layers_list[-1].n_neurons\n",
    "\n",
    "\n",
    "    def set_training_param(self, loss=CrossEntropy(), lr=1e-3):\n",
    "        assert self.__layers_list, \"Uncomplete model!\"\n",
    "        self.__loss = loss\n",
    "        self.__lr = lr\n",
    "\n",
    "\n",
    "    def forward(self, network_input):\n",
    "        assert type(self.__output_shape) != None, \"Model is not compiled!\"\n",
    "        layer_input = network_input\n",
    "\n",
    "        for layer in self.__layers_list:\n",
    "            layer_input = layer.forward(layer_input)\n",
    "        network_output = layer_input\n",
    "\n",
    "        return network_output\n",
    "\n",
    "\n",
    "    def fit(self, epochs, trainloader, testloader=None, print_results=True):\n",
    "\n",
    "        assert type(self.__output_shape) != None, \"Model is not compiled!\"\n",
    "        assert type(self.__lr) != None and type(self.__loss) != None, \"Training paramenters are not set!\"\n",
    "\n",
    "        log = {\"train_accuracy\":[], \"train_loss\":[], \"test_accuracy\":[], \"test_loss\":[]}\n",
    "\n",
    "        for epoch in range(1, epochs+1):\n",
    "\n",
    "            if print_results:\n",
    "                print('Epoch {}:'.format(epoch))\n",
    "\n",
    "            average_accuracy, average_loss = self.__train(trainloader)\n",
    "            log['train_accuracy'].append(average_accuracy)\n",
    "            log['train_loss'].append(average_loss)\n",
    "            if print_results:\n",
    "                print('\\tTrain: Average Accuracy: {}\\tAverage Loss: {}'.format(average_accuracy, average_loss))\n",
    "\n",
    "            if type(testloader) != type(None):\n",
    "                average_accuracy, average_loss = self.__test(testloader)\n",
    "                log['test_accuracy'].append(average_accuracy)\n",
    "                log['test_loss'].append(average_loss)\n",
    "                if print_results:\n",
    "                    print('\\tTest: Average Accuracy: {}\\tAverage Loss: {}'.format(average_accuracy, average_loss))\n",
    "\n",
    "        return log\n",
    "\n",
    "    def __train(self, trainloader):\n",
    "        bach_accuracies, batch_losses = [], []\n",
    "        for x_train, y_train in trainloader:\n",
    "            batch_accuracy, batch_loss = self.__train_on_batch(x_train, y_train)\n",
    "            bach_accuracies.append(batch_accuracy)\n",
    "            batch_losses.append(batch_loss)\n",
    "        return np.mean(bach_accuracies), np.mean(batch_losses)\n",
    "\n",
    "\n",
    "    def __test(self, testloader):\n",
    "        bach_accuracies, batch_losses = [], []\n",
    "        for x_test, y_test in testloader:\n",
    "            batch_accuracy, batch_loss = self.__test_on_batch(x_test, y_test)\n",
    "            bach_accuracies.append(batch_accuracy)\n",
    "            batch_losses.append(batch_loss)\n",
    "        return np.mean(bach_accuracies), np.mean(batch_losses)\n",
    "\n",
    "\n",
    "    def __train_on_batch(self, x_batch, y_batch):\n",
    "\n",
    "        output = self.forward(x_batch)\n",
    "\n",
    "        batch_average_loss = self.__update_weights(output, y_batch)\n",
    "\n",
    "        batch_accuracy = self.__compute_accuracy(output, y_batch)\n",
    "\n",
    "        return (batch_accuracy, batch_average_loss)\n",
    "\n",
    "\n",
    "    def __test_on_batch(self, x_batch, y_batch):\n",
    "\n",
    "        output = self.forward(x_batch)\n",
    "\n",
    "        batch_average_loss = self.__update_weights(output, y_batch)\n",
    "\n",
    "        batch_accuracy = self.__compute_accuracy(output, y_batch)\n",
    "\n",
    "        return (batch_accuracy, batch_average_loss)\n",
    "\n",
    "\n",
    "    def __get_labels(self, outputs ):\n",
    "        labels = outputs.argmax(axis=1)\n",
    "\n",
    "        return labels\n",
    "\n",
    "    def __compute_accuracy(self, output, expected_output):\n",
    "        # print(output)\n",
    "        # print(\"-------------------\")\n",
    "        # print(self.__get_labels(output))\n",
    "        # print(\"-------------------\")\n",
    "        # print(expected_output)\n",
    "        # print(\"-------------------\")\n",
    "        # print(self.__get_labels(expected_output))\n",
    "        \n",
    "        accuracy = (self.__get_labels(output) == self.__get_labels(expected_output)).all(axis=1).mean()\n",
    "        \n",
    "        return accuracy\n",
    "\n",
    "\n",
    "    def __update_weights(self, output, y_train):\n",
    "        backprop_tensor = self.__loss.derivative(output,y_train)\n",
    "        for layer in reversed(self.__layers_list):\n",
    "           backprop_tensor = layer.update_weights(backprop_tensor , self.__lr)\n",
    "\n",
    "        return np.mean(backprop_tensor)"
   ]
  },
  {
   "cell_type": "markdown",
   "metadata": {},
   "source": [
    "# Training Sample Code"
   ]
  },
  {
   "cell_type": "code",
   "execution_count": 29,
   "metadata": {},
   "outputs": [
    {
     "output_type": "stream",
     "name": "stdout",
     "text": [
      "Epoch 1:\n",
      "\tTrain: Average Accuracy: 0.10001332622601279\tAverage Loss: -0.0009608094068341869\n",
      "\tTest: Average Accuracy: 0.10096914556962025\tAverage Loss: -0.0010393122077861836\n",
      "Epoch 2:\n",
      "\tTrain: Average Accuracy: 0.10001332622601279\tAverage Loss: -0.0009653940608293542\n",
      "\tTest: Average Accuracy: 0.10096914556962025\tAverage Loss: -0.0010442518424949776\n",
      "Epoch 3:\n",
      "\tTrain: Average Accuracy: 0.10001332622601279\tAverage Loss: -0.0009699798830699911\n",
      "\tTest: Average Accuracy: 0.10096914556962025\tAverage Loss: -0.001049192739118592\n",
      "Epoch 4:\n",
      "\tTrain: Average Accuracy: 0.10001332622601279\tAverage Loss: -0.0009745668791265622\n",
      "\tTest: Average Accuracy: 0.10096914556962025\tAverage Loss: -0.0010541349036589686\n",
      "Epoch 5:\n",
      "\tTrain: Average Accuracy: 0.10001332622601279\tAverage Loss: -0.000979155054571225\n",
      "\tTest: Average Accuracy: 0.10096914556962025\tAverage Loss: -0.0010590783421198884\n",
      "Epoch 6:\n",
      "\tTrain: Average Accuracy: 0.10001332622601279\tAverage Loss: -0.0009837444149778368\n",
      "\tTest: Average Accuracy: 0.10096914556962025\tAverage Loss: -0.0010640230605069843\n",
      "Epoch 7:\n",
      "\tTrain: Average Accuracy: 0.10001332622601279\tAverage Loss: -0.0009883349659219646\n",
      "\tTest: Average Accuracy: 0.10096914556962025\tAverage Loss: -0.0010689690648277446\n",
      "Epoch 8:\n",
      "\tTrain: Average Accuracy: 0.10001332622601279\tAverage Loss: -0.0009929267129808917\n",
      "\tTest: Average Accuracy: 0.10096914556962025\tAverage Loss: -0.001073916361091527\n",
      "Epoch 9:\n",
      "\tTrain: Average Accuracy: 0.10001332622601279\tAverage Loss: -0.0009975196617336272\n",
      "\tTest: Average Accuracy: 0.10096914556962025\tAverage Loss: -0.001078864955309565\n",
      "Epoch 10:\n",
      "\tTrain: Average Accuracy: 0.10001332622601279\tAverage Loss: -0.0010021138177609137\n",
      "\tTest: Average Accuracy: 0.10096914556962025\tAverage Loss: -0.0010838148534949735\n",
      "Epoch 11:\n",
      "\tTrain: Average Accuracy: 0.10001332622601279\tAverage Loss: -0.0010067091866452359\n",
      "\tTest: Average Accuracy: 0.10096914556962025\tAverage Loss: -0.001088766061662765\n",
      "Epoch 12:\n",
      "\tTrain: Average Accuracy: 0.10001332622601279\tAverage Loss: -0.0010113057739708285\n",
      "\tTest: Average Accuracy: 0.10096914556962025\tAverage Loss: -0.0010937185858298508\n",
      "Epoch 13:\n",
      "\tTrain: Average Accuracy: 0.10001332622601279\tAverage Loss: -0.001015903585323686\n",
      "\tTest: Average Accuracy: 0.10096914556962025\tAverage Loss: -0.001098672432015055\n",
      "Epoch 14:\n",
      "\tTrain: Average Accuracy: 0.10001332622601279\tAverage Loss: -0.001020502626291569\n",
      "\tTest: Average Accuracy: 0.10096914556962025\tAverage Loss: -0.001103627606239121\n",
      "Epoch 15:\n",
      "\tTrain: Average Accuracy: 0.10001332622601279\tAverage Loss: -0.0010251029024640138\n",
      "\tTest: Average Accuracy: 0.10096914556962025\tAverage Loss: -0.0011085841145247219\n",
      "Epoch 16:\n",
      "\tTrain: Average Accuracy: 0.10001332622601279\tAverage Loss: -0.001029704419432341\n",
      "\tTest: Average Accuracy: 0.10096914556962025\tAverage Loss: -0.0011135419628964661\n",
      "Epoch 17:\n",
      "\tTrain: Average Accuracy: 0.10001332622601279\tAverage Loss: -0.0010343071827896635\n",
      "\tTest: Average Accuracy: 0.10096914556962025\tAverage Loss: -0.0011185011573809115\n",
      "Epoch 18:\n",
      "\tTrain: Average Accuracy: 0.10001332622601279\tAverage Loss: -0.001038911198130895\n",
      "\tTest: Average Accuracy: 0.10096914556962025\tAverage Loss: -0.0011234617040065697\n",
      "Epoch 19:\n",
      "\tTrain: Average Accuracy: 0.10001332622601279\tAverage Loss: -0.0010435164710527578\n",
      "\tTest: Average Accuracy: 0.10096914556962025\tAverage Loss: -0.0011284236088039174\n",
      "Epoch 20:\n",
      "\tTrain: Average Accuracy: 0.10001332622601279\tAverage Loss: -0.001048123007153793\n",
      "\tTest: Average Accuracy: 0.10096914556962025\tAverage Loss: -0.001133386877805404\n",
      "Epoch 21:\n",
      "\tTrain: Average Accuracy: 0.10001332622601279\tAverage Loss: -0.001052730812034367\n",
      "\tTest: Average Accuracy: 0.10096914556962025\tAverage Loss: -0.0011383515170454623\n",
      "Epoch 22:\n",
      "\tTrain: Average Accuracy: 0.10001332622601279\tAverage Loss: -0.0010573398912966812\n",
      "\tTest: Average Accuracy: 0.10096914556962025\tAverage Loss: -0.0011433175325605161\n",
      "Epoch 23:\n",
      "\tTrain: Average Accuracy: 0.10001332622601279\tAverage Loss: -0.0010619502505447803\n",
      "\tTest: Average Accuracy: 0.10096914556962025\tAverage Loss: -0.0011482849303889892\n",
      "Epoch 24:\n",
      "\tTrain: Average Accuracy: 0.10001332622601279\tAverage Loss: -0.0010665618953845605\n",
      "\tTest: Average Accuracy: 0.10096914556962025\tAverage Loss: -0.0011532537165713141\n",
      "Epoch 25:\n",
      "\tTrain: Average Accuracy: 0.10001332622601279\tAverage Loss: -0.001071174831423778\n",
      "\tTest: Average Accuracy: 0.10096914556962025\tAverage Loss: -0.001158223897149944\n",
      "Epoch 26:\n",
      "\tTrain: Average Accuracy: 0.10001332622601279\tAverage Loss: -0.0010757890642720572\n",
      "\tTest: Average Accuracy: 0.10096914556962025\tAverage Loss: -0.0011631954781693567\n",
      "Epoch 27:\n",
      "\tTrain: Average Accuracy: 0.10001332622601279\tAverage Loss: -0.0010804045995409005\n",
      "\tTest: Average Accuracy: 0.10096914556962025\tAverage Loss: -0.0011681684656760678\n",
      "Epoch 28:\n",
      "\tTrain: Average Accuracy: 0.10001332622601279\tAverage Loss: -0.0010850214428436956\n",
      "\tTest: Average Accuracy: 0.10096914556962025\tAverage Loss: -0.0011731428657186375\n",
      "Epoch 29:\n",
      "\tTrain: Average Accuracy: 0.10001332622601279\tAverage Loss: -0.0010896395997957238\n",
      "\tTest: Average Accuracy: 0.10096914556962025\tAverage Loss: -0.0011781186843476813\n",
      "Epoch 30:\n",
      "\tTrain: Average Accuracy: 0.10001332622601279\tAverage Loss: -0.0010942590760141693\n",
      "\tTest: Average Accuracy: 0.10096914556962025\tAverage Loss: -0.0011830959276158772\n"
     ]
    }
   ],
   "source": [
    "INPUT_SHAPE = 784\n",
    "LEARNING_RATE = 0.000000001\n",
    "EPOCHS = 30\n",
    "\n",
    "num_classes = 10\n",
    "batch_size = 128\n",
    "TRAINLOADER = Dataloader(train_data, int_array_of_train_label, num_classes, batch_size)\n",
    "TESTLOADER = Dataloader(test_data, int_array_of_test_label, num_classes, batch_size)\n",
    "\n",
    "network = FeedForwardNN(INPUT_SHAPE)\n",
    "network.add_layer(20, input_shape=INPUT_SHAPE, activation=Relu(), weight_initializer='uniform')\n",
    "network.add_layer(10, activation=Relu(), weight_initializer='uniform')\n",
    "network.set_training_param(loss=CrossEntropy(), lr=LEARNING_RATE)\n",
    "\n",
    "log = network.fit(EPOCHS, TRAINLOADER, TESTLOADER)"
   ]
  },
  {
   "cell_type": "code",
   "execution_count": null,
   "metadata": {},
   "outputs": [],
   "source": []
  },
  {
   "cell_type": "code",
   "execution_count": null,
   "metadata": {},
   "outputs": [],
   "source": []
  },
  {
   "cell_type": "code",
   "execution_count": null,
   "metadata": {},
   "outputs": [],
   "source": []
  },
  {
   "cell_type": "code",
   "execution_count": null,
   "metadata": {},
   "outputs": [],
   "source": []
  },
  {
   "cell_type": "code",
   "execution_count": null,
   "metadata": {},
   "outputs": [],
   "source": []
  },
  {
   "cell_type": "code",
   "execution_count": null,
   "metadata": {},
   "outputs": [],
   "source": []
  },
  {
   "cell_type": "code",
   "execution_count": null,
   "metadata": {},
   "outputs": [],
   "source": []
  },
  {
   "cell_type": "code",
   "execution_count": null,
   "metadata": {},
   "outputs": [],
   "source": []
  },
  {
   "cell_type": "code",
   "execution_count": null,
   "metadata": {},
   "outputs": [],
   "source": []
  },
  {
   "source": [
    "https://mlfromscratch.com/neural-network-tutorial/#/\n",
    "\n",
    "https://medium.com/@himanshuxd/activation-functions-sigmoid-relu-leaky-relu-and-softmax-basics-for-neural-networks-and-deep-8d9c70eed91e\n",
    "https://towardsdatascience.com/activation-functions-neural-networks-1cbd9f8d91d6\n",
    "https://levelup.gitconnected.com/killer-combo-softmax-and-cross-entropy-5907442f60ba\n",
    "\n",
    "https://www.python-course.eu/neural_network_weights.php\n",
    "\n",
    "https://deepnotes.io/softmax-crossentropy\n",
    "https://www.journaldev.com/18722/python-static-method #:~:text=Static%20methods%20in%20Python%20are,an%20object%20for%20that%20class\n",
    "\n",
    "softmax probability of the correct label for each sample.\n",
    "Refer to https://docs.scipy.org/doc/numpy/user/basics.indexing.html #indexing-multi-dimensional-arrays for understanding multidimensional array indexing.\n",
    "\n",
    "https://stackoverflow.com/questions/39836318/comparing-arrays-for-accuracy\n",
    "\n",
    "https://visualstudiomagazine.com/Articles/2017/10/01/Batch-Training.aspx?Page=1"
   ],
   "cell_type": "markdown",
   "metadata": {}
  }
 ],
 "metadata": {
  "kernelspec": {
   "display_name": "Python 3",
   "language": "python",
   "name": "python3"
  },
  "language_info": {
   "codemirror_mode": {
    "name": "ipython",
    "version": 3
   },
   "file_extension": ".py",
   "mimetype": "text/x-python",
   "name": "python",
   "nbconvert_exporter": "python",
   "pygments_lexer": "ipython3",
   "version": "3.8.5-final"
  }
 },
 "nbformat": 4,
 "nbformat_minor": 4
}